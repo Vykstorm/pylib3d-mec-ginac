{
 "cells": [
  {
   "cell_type": "markdown",
   "metadata": {},
   "source": [
    "## Imports"
   ]
  },
  {
   "cell_type": "code",
   "execution_count": null,
   "metadata": {},
   "outputs": [],
   "source": [
    "from lib3d_mec_ginac import *\n",
    "import warnings"
   ]
  },
  {
   "cell_type": "markdown",
   "metadata": {},
   "source": [
    "## Configuration"
   ]
  },
  {
   "cell_type": "code",
   "execution_count": null,
   "metadata": {},
   "outputs": [],
   "source": [
    "set_gravity_direction('up')\n",
    "set_atomization_state(False)\n",
    "warnings.filterwarnings('ignore')"
   ]
  },
  {
   "cell_type": "markdown",
   "metadata": {},
   "source": [
    "## Build the mechanical system"
   ]
  },
  {
   "cell_type": "markdown",
   "metadata": {},
   "source": [
    "### Generalized coordinates, velocities and accelerations"
   ]
  },
  {
   "cell_type": "code",
   "execution_count": null,
   "metadata": {},
   "outputs": [],
   "source": [
    "theta1, dtheta1, ddtheta1 = new_coord('theta1', -pi/6, 0)\n",
    "theta2, dtheta2, ddtheta2 = new_coord('theta2', -2*pi/6, 0)\n",
    "theta3, dtheta3, ddtheta3 = new_coord('theta3', -3*pi/6, 0)"
   ]
  },
  {
   "cell_type": "markdown",
   "metadata": {},
   "source": [
    "### Kinematical parameters"
   ]
  },
  {
   "cell_type": "code",
   "execution_count": null,
   "metadata": {},
   "outputs": [],
   "source": [
    "l1, l2 = new_param('l1', 0.4), new_param('l2', 2.0)\n",
    "l3, l4 = new_param('l3', 1.2), new_param('l4', 1.6)"
   ]
  },
  {
   "cell_type": "markdown",
   "metadata": {},
   "source": [
    "### Dynamical parameters"
   ]
  },
  {
   "cell_type": "code",
   "execution_count": null,
   "metadata": {},
   "outputs": [],
   "source": [
    "m1, m2, m3 = new_param('m1', 1), new_param('m2', 1), new_param('m3', 1)"
   ]
  },
  {
   "cell_type": "markdown",
   "metadata": {},
   "source": [
    "### Bases"
   ]
  },
  {
   "cell_type": "code",
   "execution_count": null,
   "metadata": {},
   "outputs": [],
   "source": [
    "new_base('BArm1', 'xyz', [0, 1, 0], theta1)\n",
    "new_base('BArm2', 'BArm1', 0, 1, 0, theta2)\n",
    "new_base('BArm3', 'BArm2', rotation_tupla=[0, 1, 0], rotation_angle=theta3);"
   ]
  },
  {
   "cell_type": "markdown",
   "metadata": {},
   "source": [
    "### Vectors"
   ]
  },
  {
   "cell_type": "code",
   "execution_count": null,
   "metadata": {},
   "outputs": [],
   "source": [
    "new_vector('OA', l1, 0, 0, 'BArm1')\n",
    "new_vector('AB', l2, 0, 0, 'BArm2')\n",
    "new_vector('BC', [l3, 0, 0], 'BArm3')\n",
    "new_vector('OO2', values=[l4, 0, 0], base='xyz')\n",
    "\n",
    "# Input vectors\n",
    "Fx2, Fz2 = new_input('Fx2', 0), new_input('Fz2', 0)\n",
    "Fx3, Fz3 = new_input('Fx3', 0), new_input('Fz3', 0)\n",
    "My2, My3 = new_input('My2', 0), new_input('My3', 0)\n",
    "Fext2 = new_vector('Fext2', Fx2, 0,   Fz2, 'xyz')\n",
    "Fext3 = new_vector('Fext3', Fx3, 0,   Fz3, 'xyz')\n",
    "Mext2 = new_vector('Mext2', 0,   My2, 0,   'xyz')\n",
    "Mext3 = new_vector('Mext3', 0,   My3, 0,   'xyz')\n",
    "\n",
    "# Gravity center vectors\n",
    "cg1x, cg1z = new_param(\"cg1x\",0.2), new_param(\"cg1z\",0.1)\n",
    "cg2x, cg2z = new_param(\"cg2x\",1.0), new_param(\"cg2z\",0.1)\n",
    "cg3x, cg3z = new_param(\"cg3x\",0.6), new_param(\"cg3z\",0.1)\n",
    "new_vector(\"OArm1_GArm1\",cg1x,0,cg1z,\"BArm1\")\n",
    "new_vector(\"OArm2_GArm2\",cg2x,0,cg2z,\"BArm2\")\n",
    "new_vector(\"OArm3_GArm3\",cg3x,0,cg3z,\"BArm3\");"
   ]
  },
  {
   "cell_type": "markdown",
   "metadata": {},
   "source": [
    "### Points"
   ]
  },
  {
   "cell_type": "code",
   "execution_count": null,
   "metadata": {},
   "outputs": [],
   "source": [
    "A = new_point('A',  'O', 'OA')\n",
    "B = new_point('B',  'A', 'AB')\n",
    "C = new_point('C',  'B', 'BC')\n",
    "O2 = new_point('O2', 'O', 'OO2')"
   ]
  },
  {
   "cell_type": "markdown",
   "metadata": {},
   "source": [
    "### Frames"
   ]
  },
  {
   "cell_type": "code",
   "execution_count": null,
   "metadata": {},
   "outputs": [],
   "source": [
    "new_frame('FArm1',    'O',  'BArm1')\n",
    "new_frame('FArm2',    'A',  'BArm2')\n",
    "new_frame('FArm3',    'B',  'BArm3')\n",
    "new_frame('Fra_ABS2', 'O2', 'xyz');"
   ]
  },
  {
   "cell_type": "markdown",
   "metadata": {},
   "source": [
    "### Inertia tensors"
   ]
  },
  {
   "cell_type": "code",
   "execution_count": null,
   "metadata": {},
   "outputs": [],
   "source": [
    "I1yy, I2yy, I3yy = new_param(\"I1yy\",1), new_param(\"I2yy\",1), new_param(\"I3yy\",1)\n",
    "I_Arm1 = new_tensor('I_Arm1', base='BArm1')\n",
    "I_Arm2 = new_tensor('I_Arm2', base='BArm2')\n",
    "I_Arm3 = new_tensor('I_Arm3', base='BArm3')\n",
    "I_Arm1[1, 1], I_Arm2[1, 1], I_Arm3[1, 1] = I1yy, I2yy, I3yy"
   ]
  },
  {
   "cell_type": "markdown",
   "metadata": {},
   "source": [
    "### Solids"
   ]
  },
  {
   "cell_type": "code",
   "execution_count": null,
   "metadata": {},
   "outputs": [],
   "source": [
    "Arm1 = new_solid(\"Arm1\", \"O\"  ,\"BArm1\" ,\"m1\",\"OArm1_GArm1\",\"I_Arm1\")\n",
    "Arm2 = new_solid(\"Arm2\", \"A\" , \"BArm2\" ,\"m2\",\"OArm2_GArm2\",\"I_Arm2\")\n",
    "Arm3 = new_solid(\"Arm3\", \"B\" , \"BArm3\" ,\"m3\",\"OArm3_GArm3\",\"I_Arm3\")"
   ]
  },
  {
   "cell_type": "markdown",
   "metadata": {},
   "source": [
    "### Force & momentum"
   ]
  },
  {
   "cell_type": "code",
   "execution_count": null,
   "metadata": {},
   "outputs": [],
   "source": [
    "K = new_param('K', 50)\n",
    "l2x = new_param('l2x', 1)\n",
    "l3x, l3z = new_param('l3x', 0.5), new_param('l3z', 0.1)\n",
    "\n",
    "OArm2_L2 = new_vector('OArm2_L2', l2x, 0, 0, 'BArm2')\n",
    "OArm3_L3 = new_vector('OArm3_L3', l3x, 0, 0, 'BArm3')\n",
    "\n",
    "OL2 = new_point('OL2', 'A', OArm2_L2)\n",
    "OL3 = new_point('OL3', 'B', OArm3_L3)\n",
    "\n",
    "OL2_OL3 = position_vector(OL2, OL3)\n",
    "FK = K * OL2_OL3\n",
    "MK = new_vector('MK_GroundPend1', 0, 0, 0, 'xyz')"
   ]
  },
  {
   "cell_type": "markdown",
   "metadata": {},
   "source": [
    "### Wrenches"
   ]
  },
  {
   "cell_type": "code",
   "execution_count": null,
   "metadata": {},
   "outputs": [],
   "source": [
    "# Gravity wrenches\n",
    "Gravity_Arm1 = gravity_wrench('Arm1')\n",
    "Gravity_Arm2 = gravity_wrench('Arm2')\n",
    "Gravity_Arm3 = gravity_wrench('Arm3')\n",
    "\n",
    "# Inertia wrenches\n",
    "Inertia_Arm1 = inertia_wrench('Arm1')\n",
    "Inertia_Arm2 = inertia_wrench('Arm2')\n",
    "Inertia_Arm3 = inertia_wrench('Arm3')\n",
    "\n",
    "# Constitutive wrenches\n",
    "SpringA = new_wrench('SpringA', FK,   MK, OL2, Arm2, 'Constitutive')\n",
    "SpringB = new_wrench('SpringR', -FK, -MK, OL3, Arm3, 'Constitutive')\n",
    "\n",
    "# External wrenches\n",
    "FMext2 = new_wrench('FMext2', Fext2, Mext2, A, Arm2, 'External')\n",
    "FMext3 = new_wrench('FMext3', Fext3, Mext3, B, Arm3, 'External')\n",
    "\n",
    "Sum_Wrenches_Arm1 = Inertia_Arm1 + Gravity_Arm1\n",
    "Sum_Wrenches_Arm2 = Inertia_Arm2 + Gravity_Arm2 + SpringA + FMext2\n",
    "Sum_Wrenches_Arm3 = Inertia_Arm3 + Gravity_Arm3 - SpringA + FMext3\n",
    "\n",
    "Twist_Arm1, Twist_Arm2, Twist_Arm3 = twist('Arm1'), twist('Arm2'), twist('Arm3')"
   ]
  },
  {
   "cell_type": "markdown",
   "metadata": {},
   "source": [
    "### Matrices of symbols"
   ]
  },
  {
   "cell_type": "code",
   "execution_count": null,
   "metadata": {},
   "outputs": [],
   "source": [
    "q,   q_aux   = get_coords_matrix(),        get_aux_coords_matrix()\n",
    "dq,  dq_aux  = get_velocities_matrix(),    get_aux_velocities_matrix()\n",
    "ddq, ddq_aux = get_accelerations_matrix(), get_aux_accelerations_matrix()\n",
    "epsilon      = get_joint_unknowns_matrix()\n"
   ]
  },
  {
   "cell_type": "markdown",
   "metadata": {},
   "source": [
    "### Kinematic equations"
   ]
  },
  {
   "cell_type": "markdown",
   "metadata": {},
   "source": [
    "#### Phi"
   ]
  },
  {
   "cell_type": "code",
   "execution_count": null,
   "metadata": {},
   "outputs": [],
   "source": [
    "O2C = position_vector('O2', 'C')\n",
    "e_x = new_vector('e_x', 1, 0, 0, 'xyz')\n",
    "e_z = new_vector('e_z', 0, 0, 1, 'xyz')\n",
    "\n",
    "Phi = Matrix(shape=[2, 1])\n",
    "Phi[0] = O2C * e_x\n",
    "Phi[1] = O2C * e_z\n",
    "dPhi = derivative(Phi)\n",
    "ddPhi = derivative(dPhi)"
   ]
  },
  {
   "cell_type": "markdown",
   "metadata": {},
   "source": [
    "#### Phi_q"
   ]
  },
  {
   "cell_type": "code",
   "execution_count": null,
   "metadata": {},
   "outputs": [],
   "source": [
    "Phi_q = jacobian(Phi.transpose(), Matrix.block(2, 1, q, q_aux))\n",
    "dPhi_dq = jacobian(dPhi.transpose(), Matrix.block(2, 1, dq, dq_aux))"
   ]
  },
  {
   "cell_type": "markdown",
   "metadata": {},
   "source": [
    "#### Beta"
   ]
  },
  {
   "cell_type": "code",
   "execution_count": null,
   "metadata": {},
   "outputs": [],
   "source": [
    "beta = -dPhi\n",
    "beta = subs(beta, dq, 0)\n",
    "beta = subs(beta, dq_aux, 0)"
   ]
  },
  {
   "cell_type": "markdown",
   "metadata": {},
   "source": [
    "#### Phi_init"
   ]
  },
  {
   "cell_type": "code",
   "execution_count": null,
   "metadata": {},
   "outputs": [],
   "source": [
    "Phi_init = Matrix.block(2, 1, Phi, Matrix([theta1 + pi / 2]))\n",
    "dPhi_init = Matrix.block(2, 1, dPhi, Matrix([dtheta1 + pi / 3]))"
   ]
  },
  {
   "cell_type": "markdown",
   "metadata": {},
   "source": [
    "#### Phi_init_q"
   ]
  },
  {
   "cell_type": "code",
   "execution_count": null,
   "metadata": {},
   "outputs": [],
   "source": [
    "Phi_init_q = jacobian(Phi_init.transpose(), Matrix.block(2, 1, q, q_aux))\n",
    "dPhi_init_dq = jacobian(dPhi_init.transpose(), Matrix.block(2, 1, dq, dq_aux))"
   ]
  },
  {
   "cell_type": "markdown",
   "metadata": {},
   "source": [
    "#### beta_init"
   ]
  },
  {
   "cell_type": "code",
   "execution_count": null,
   "metadata": {},
   "outputs": [],
   "source": [
    "beta_init = -dPhi_init\n",
    "beta_init = subs(beta_init, dq, 0)\n",
    "beta_init = subs(beta_init, ddq_aux, 0)"
   ]
  },
  {
   "cell_type": "markdown",
   "metadata": {},
   "source": [
    "#### gamma"
   ]
  },
  {
   "cell_type": "code",
   "execution_count": null,
   "metadata": {},
   "outputs": [],
   "source": [
    "gamma = -ddPhi\n",
    "gamma = subs(gamma, ddq, 0)\n",
    "gamma = subs(gamma, ddq_aux, 0)"
   ]
  },
  {
   "cell_type": "markdown",
   "metadata": {},
   "source": [
    "### Dynamic equations"
   ]
  },
  {
   "cell_type": "markdown",
   "metadata": {},
   "source": [
    "#### Dyn_eq_VP"
   ]
  },
  {
   "cell_type": "code",
   "execution_count": null,
   "metadata": {},
   "outputs": [],
   "source": [
    "Dyn_eq_VP = Matrix([\n",
    "    Sum_Wrenches_Arm1 * diff(Twist_Arm1, to_symbol(dq[k, 0])) + \\\n",
    "    Sum_Wrenches_Arm2 * diff(Twist_Arm2, to_symbol(dq[k, 0])) + \\\n",
    "    Sum_Wrenches_Arm3 * diff(Twist_Arm3, to_symbol(dq[k, 0]))   \\\n",
    "    for k in range(0, 3)\n",
    "], shape=[3, 1])"
   ]
  },
  {
   "cell_type": "markdown",
   "metadata": {},
   "source": [
    "#### Dyn_eq_VP_open"
   ]
  },
  {
   "cell_type": "code",
   "execution_count": null,
   "metadata": {},
   "outputs": [],
   "source": [
    "Dyn_eq_VP_open = Dyn_eq_VP\n",
    "Dyn_eq_VP_open = subs(Dyn_eq_VP_open, epsilon, 0)"
   ]
  },
  {
   "cell_type": "markdown",
   "metadata": {},
   "source": [
    "#### M_qq"
   ]
  },
  {
   "cell_type": "code",
   "execution_count": null,
   "metadata": {},
   "outputs": [],
   "source": [
    "M_qq = jacobian(Dyn_eq_VP_open.transpose(), ddq, 1)"
   ]
  },
  {
   "cell_type": "markdown",
   "metadata": {},
   "source": [
    "#### delta_q"
   ]
  },
  {
   "cell_type": "code",
   "execution_count": null,
   "metadata": {},
   "outputs": [],
   "source": [
    "delta_q = -Dyn_eq_VP_open\n",
    "delta_q = subs(delta_q, ddq, 0)\n",
    "delta_q = subs(delta_q, ddq_aux, 0)"
   ]
  },
  {
   "cell_type": "markdown",
   "metadata": {},
   "source": [
    "## Drawings"
   ]
  },
  {
   "cell_type": "markdown",
   "metadata": {},
   "source": [
    "### Pivot points"
   ]
  },
  {
   "cell_type": "code",
   "execution_count": null,
   "metadata": {},
   "outputs": [],
   "source": [
    "draw_point('O', color='cyan')\n",
    "draw_point('A', color='red')\n",
    "draw_point('B', color='green')\n",
    "draw_point('C', color='blue');"
   ]
  },
  {
   "cell_type": "markdown",
   "metadata": {},
   "source": [
    "### Vectors connecting the pivots"
   ]
  },
  {
   "cell_type": "code",
   "execution_count": null,
   "metadata": {},
   "outputs": [],
   "source": [
    "draw_position_vector('O', 'A')\n",
    "draw_position_vector('A', 'B')\n",
    "draw_position_vector('B', 'C')\n",
    "draw_position_vector('C', 'O');"
   ]
  },
  {
   "cell_type": "markdown",
   "metadata": {},
   "source": [
    "### Load STL objects"
   ]
  },
  {
   "cell_type": "code",
   "execution_count": null,
   "metadata": {},
   "outputs": [],
   "source": [
    "scad2stl('Arm','Arm1', rod_r=0.05*l1, r_in=0.1*l1, d=0.2*l1, l=l1)\n",
    "scad2stl('Arm','Arm2', rod_r=0.05*l1, r_in=0.1*l1, d=0.2*l1, l=l2)\n",
    "scad2stl('Arm','Arm3', rod_r=0.05*l1, r_in=0.1*l1, d=0.2*l1, l=l3)\n",
    "scad2stl('Slider', 'Slider1', r_in=0.05*l1, r_out=0.1*l1, height=0.1)\n",
    "scad2stl('Slider', 'Slider2', r_in=0.05*l1, r_out=0.1*l1, height=0.25);"
   ]
  },
  {
   "cell_type": "markdown",
   "metadata": {},
   "source": [
    "### Draw arms"
   ]
  },
  {
   "cell_type": "code",
   "execution_count": null,
   "metadata": {},
   "outputs": [],
   "source": [
    "arms_drawings = [draw_solid(f'Arm{i}', scale=1) for i in range(1,4)]\n",
    "# The next statement will apply a translation transformation on the first arm\n",
    "arms_drawings[0].transform &= Transform.translation(0, 0.35*l1, 0)"
   ]
  },
  {
   "cell_type": "markdown",
   "metadata": {},
   "source": [
    "### Draw sliders"
   ]
  },
  {
   "cell_type": "code",
   "execution_count": null,
   "metadata": {},
   "outputs": [],
   "source": [
    "sliders_drawings = [\n",
    "    draw_stl('Slider1.stl', color=(0.6, 0.6, 0)),\n",
    "    draw_stl('Slider2.stl', color=(0.6, 0.6, 0)),\n",
    "    draw_stl('Slider1.stl', color=(0.6, 0.6, 0))\n",
    "]"
   ]
  },
  {
   "cell_type": "code",
   "execution_count": null,
   "metadata": {},
   "outputs": [],
   "source": [
    "# Setup manually the transformations for each slider\n",
    "xrot = Transform.xrotation(pi/2)\n",
    "sliders_drawings[0].transform = arms_drawings[0].transform & xrot & Transform.translation(0, 0, 0.1)\n",
    "sliders_drawings[1].transform = arms_drawings[1].transform & xrot & Transform.translation(0, 0, -0.05)\n",
    "sliders_drawings[2].transform = arms_drawings[2].transform & xrot & Transform.translation(0, 0, 0.1)"
   ]
  },
  {
   "cell_type": "markdown",
   "metadata": {},
   "source": [
    "### Configure camera"
   ]
  },
  {
   "cell_type": "code",
   "execution_count": null,
   "metadata": {},
   "outputs": [],
   "source": [
    "# Setup camera\n",
    "camera = get_camera()\n",
    "camera.position = 0.8, 4, 0.5\n",
    "camera.focal_point = 0.8, 0, -0.2"
   ]
  },
  {
   "cell_type": "markdown",
   "metadata": {},
   "source": [
    "## Simulation "
   ]
  },
  {
   "cell_type": "markdown",
   "metadata": {},
   "source": [
    "Setup numerical integration method & specify constraints to solve the assembly problem"
   ]
  },
  {
   "cell_type": "code",
   "execution_count": null,
   "metadata": {},
   "outputs": [],
   "source": [
    "set_integration_method('euler')\n",
    "assembly_problem(Phi, Phi_q, beta, Phi_init, Phi_init_q, beta_init, dPhi_dq, dPhi_init_dq)"
   ]
  },
  {
   "cell_type": "markdown",
   "metadata": {},
   "source": [
    "Take a screenshot of the system ( show only vectors & points )"
   ]
  },
  {
   "cell_type": "code",
   "execution_count": null,
   "metadata": {},
   "outputs": [],
   "source": [
    "toogle_drawings(solids=False, vectors=True, points=True, grid=True, others=False)\n",
    "get_screenshot(width=400, height=400)"
   ]
  },
  {
   "cell_type": "markdown",
   "metadata": {},
   "source": [
    "Record the simulation ( only solids and decorations will be drawn )"
   ]
  },
  {
   "cell_type": "code",
   "execution_count": null,
   "metadata": {},
   "outputs": [],
   "source": [
    "toogle_drawings(solids=True, vectors=False, points=False, grid=False, simulation_info=False)\n",
    "record_simulation(delta_t=0.05, time_limit=5)"
   ]
  },
  {
   "cell_type": "markdown",
   "metadata": {},
   "source": [
    "Record the simulation ( show only vectors & points )"
   ]
  },
  {
   "cell_type": "code",
   "execution_count": null,
   "metadata": {},
   "outputs": [],
   "source": [
    "toogle_drawings(solids=False, vectors=True, points=True, grid=False, others=False)\n",
    "record_simulation(delta_t=0.05, time_limit=5)"
   ]
  },
  {
   "cell_type": "markdown",
   "metadata": {},
   "source": [
    "## Export to MATLAB"
   ]
  },
  {
   "cell_type": "markdown",
   "metadata": {},
   "source": [
    "Export kinematic & dynamic functions to MATLAB"
   ]
  },
  {
   "cell_type": "code",
   "execution_count": null,
   "metadata": {},
   "outputs": [],
   "source": [
    "export_numeric_init_func_MATLAB()\n",
    "export_numeric_func_MATLAB(Phi, 'Phi_', 'Phi_out')\n",
    "export_numeric_func_MATLAB(Phi_q, 'Phi_q_', 'Phi_q_out')\n",
    "export_numeric_func_MATLAB(dPhi_dq, 'dPhi_dq_', 'dPhi_dq_out')\n",
    "export_numeric_func_MATLAB(beta, 'beta_', 'beta_out')\n",
    "export_numeric_func_MATLAB(gamma, 'gamma_', 'gamma_out')\n",
    "export_numeric_func_MATLAB(Phi_init, 'Phi_init_', 'Phi_init_out')\n",
    "export_numeric_func_MATLAB(Phi_init_q, 'Phi_init_q_', 'Phi_init_q_out')\n",
    "export_numeric_func_MATLAB(dPhi_init_dq, 'dPhi_init_dq_', 'dPhi_init_dq_out')\n",
    "export_numeric_func_MATLAB(beta_init, 'beta_init_', 'beta_init_out')\n",
    "export_numeric_func_MATLAB(M_qq, 'M_qq_', 'M_qq_out')\n",
    "export_numeric_func_MATLAB(delta_q, 'delta_q_', 'delta_q_out')"
   ]
  }
 ],
 "metadata": {
  "kernelspec": {
   "display_name": "Python 3",
   "language": "python",
   "name": "python3"
  },
  "language_info": {
   "codemirror_mode": {
    "name": "ipython",
    "version": 3
   },
   "file_extension": ".py",
   "mimetype": "text/x-python",
   "name": "python",
   "nbconvert_exporter": "python",
   "pygments_lexer": "ipython3",
   "version": "3.7.5"
  }
 },
 "nbformat": 4,
 "nbformat_minor": 2
}
