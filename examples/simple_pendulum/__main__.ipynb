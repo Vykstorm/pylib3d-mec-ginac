{
 "cells": [
  {
   "cell_type": "markdown",
   "metadata": {},
   "source": [
    "## Imports"
   ]
  },
  {
   "cell_type": "code",
   "execution_count": null,
   "metadata": {},
   "outputs": [],
   "source": [
    "#from lib3d_mec_ginac import *\n",
    "from src import *\n",
    "import warnings"
   ]
  },
  {
   "cell_type": "markdown",
   "metadata": {},
   "source": [
    "## Configuration"
   ]
  },
  {
   "cell_type": "code",
   "execution_count": null,
   "metadata": {},
   "outputs": [],
   "source": [
    "set_gravity_direction('up')\n",
    "set_atomization_state(True)\n",
    "warnings.filterwarnings('ignore')"
   ]
  },
  {
   "cell_type": "markdown",
   "metadata": {},
   "source": [
    "## Geometric parameters"
   ]
  },
  {
   "cell_type": "code",
   "execution_count": null,
   "metadata": {},
   "outputs": [],
   "source": [
    "l = new_param('l', 2)              # Longitude of the pendulum\n",
    "alpha0 = new_param('alpha0', 0.05) # Initial value must be << 1 radian\n",
    "A = new_param('a', pi/3)           # Amplitude of the oscilation\n",
    "\n",
    "# Gravity & time\n",
    "g, t = get_param('g'), get_time()"
   ]
  },
  {
   "cell_type": "markdown",
   "metadata": {},
   "source": [
    "## Coordinates"
   ]
  },
  {
   "cell_type": "code",
   "execution_count": null,
   "metadata": {},
   "outputs": [],
   "source": [
    "alpha, dalpha, ddalpha = new_coord('alpha')"
   ]
  },
  {
   "cell_type": "markdown",
   "metadata": {},
   "source": [
    "## Geometry"
   ]
  },
  {
   "cell_type": "code",
   "execution_count": null,
   "metadata": {},
   "outputs": [],
   "source": [
    "Bbob = new_base('Bbob', 0, 0, 1, alpha)     # Base of the bob\n",
    "v = new_vector('v', 0, -l, 0, Bbob)         # Vector from the origin to the bob\n",
    "Bob = new_point('Bob', 'O', v)              # Position of the bob\n",
    "FBob = new_frame('FBob', Bob, Bbob)         # Frame of the bob"
   ]
  },
  {
   "cell_type": "markdown",
   "metadata": {},
   "source": [
    "## Symbol matrices"
   ]
  },
  {
   "cell_type": "code",
   "execution_count": null,
   "metadata": {},
   "outputs": [],
   "source": [
    "q,   q_aux   = get_coords_matrix(),        get_aux_coords_matrix()\n",
    "dq,  dq_aux  = get_velocities_matrix(),    get_aux_velocities_matrix()\n",
    "ddq, ddq_aux = get_accelerations_matrix(), get_aux_accelerations_matrix()"
   ]
  },
  {
   "cell_type": "markdown",
   "metadata": {},
   "source": [
    "## Kinematic equations"
   ]
  },
  {
   "cell_type": "code",
   "execution_count": null,
   "metadata": {},
   "outputs": [],
   "source": [
    "Phi = Matrix([\n",
    "    # Simple armonic equation\n",
    "    alpha - A * cos(sqrt(g / l) * t)\n",
    "]).transpose()\n",
    "dPhi = derivative(Phi)\n",
    "ddPhi = derivative(dPhi)\n",
    "\n",
    "# Phi_init\n",
    "Phi_init = Matrix([\n",
    "    alpha - alpha0,\n",
    "    dalpha\n",
    "]).transpose()\n",
    "dPhi_init = derivative(Phi_init)\n",
    "\n",
    "\n",
    "# Phi_q\n",
    "Phi_q = jacobian(Phi.transpose(), Matrix.block(2, 1, q, q_aux))\n",
    "dPhi_dq = jacobian(dPhi.transpose(), Matrix.block(2, 1, dq, dq_aux))\n",
    "\n",
    "# Beta\n",
    "beta = -dPhi\n",
    "beta = subs(beta, dq, 0)\n",
    "beta = subs(beta, dq_aux, 0)\n",
    "\n",
    "# Phi_init_q\n",
    "Phi_init_q = jacobian(Phi_init.transpose(), Matrix.block(2, 1, q, q_aux))\n",
    "dPhi_init_dq = jacobian(dPhi_init.transpose(), Matrix.block(2, 1, dq, dq_aux))\n",
    "\n",
    "# beta_init\n",
    "beta_init = -dPhi_init\n",
    "beta_init = subs(beta_init, dq, 0)\n",
    "beta_init = subs(beta_init, ddq_aux, 0)\n"
   ]
  },
  {
   "cell_type": "markdown",
   "metadata": {},
   "source": [
    "## Drawings"
   ]
  },
  {
   "cell_type": "code",
   "execution_count": null,
   "metadata": {},
   "outputs": [],
   "source": [
    "draw_point('O')\n",
    "draw_point(Bob, scale=2, color='gray')\n",
    "draw_position_vector('O', Bob)\n",
    "draw_frame(FBob);"
   ]
  },
  {
   "cell_type": "markdown",
   "metadata": {},
   "source": [
    "## Simulation"
   ]
  },
  {
   "cell_type": "code",
   "execution_count": null,
   "metadata": {},
   "outputs": [],
   "source": [
    "# Setup integration method\n",
    "set_integration_method('euler')\n",
    "\n",
    "# Configure assembly problem constraints\n",
    "assembly_problem(Phi, Phi_q, beta, Phi_init, Phi_init_q, beta_init, dPhi_dq, dPhi_init_dq)\n",
    "\n",
    "# Choose what should be drawn in the simulation\n",
    "toogle_drawings(points=True, vectors=True, frames=False, grid=False, simulation_info=False)\n",
    "\n",
    "# Setup camera\n",
    "camera = get_camera()\n",
    "camera.position = 7, 7, 7\n",
    "camera.focal_point = 0, 0, 0"
   ]
  },
  {
   "cell_type": "markdown",
   "metadata": {},
   "source": [
    "Record the simulation"
   ]
  },
  {
   "cell_type": "code",
   "execution_count": null,
   "metadata": {},
   "outputs": [],
   "source": [
    "record_simulation(delta_t=0.05, time_limit=6)"
   ]
  },
  {
   "cell_type": "code",
   "execution_count": null,
   "metadata": {},
   "outputs": [],
   "source": []
  }
 ],
 "metadata": {
  "kernelspec": {
   "display_name": "Python 3",
   "language": "python",
   "name": "python3"
  },
  "language_info": {
   "codemirror_mode": {
    "name": "ipython",
    "version": 3
   },
   "file_extension": ".py",
   "mimetype": "text/x-python",
   "name": "python",
   "nbconvert_exporter": "python",
   "pygments_lexer": "ipython3",
   "version": "3.7.5"
  }
 },
 "nbformat": 4,
 "nbformat_minor": 2
}
