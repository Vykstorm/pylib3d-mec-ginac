{
 "cells": [
  {
   "cell_type": "markdown",
   "metadata": {},
   "source": [
    "## Import statements"
   ]
  },
  {
   "cell_type": "code",
   "execution_count": 56,
   "metadata": {},
   "outputs": [],
   "source": [
    "from IPython.display import Math\n",
    "from lib3d_mec_ginac import *\n",
    "from math import pi, e\n",
    "from random import random"
   ]
  },
  {
   "cell_type": "markdown",
   "metadata": {},
   "source": [
    "Create a new system with few parameters and coordinates"
   ]
  },
  {
   "cell_type": "code",
   "execution_count": 40,
   "metadata": {},
   "outputs": [],
   "source": [
    "sys = System()"
   ]
  },
  {
   "cell_type": "code",
   "execution_count": 41,
   "metadata": {},
   "outputs": [],
   "source": [
    "a, b, c = sys.new_parameter('a', '\\\\alpha'), sys.new_parameter('b', '\\\\beta'), sys.new_parameter('c', '\\\\gamma')\n",
    "o, p, q = [sys.new_coordinate(name) for name in ('o', 'p', 'q')]"
   ]
  },
  {
   "cell_type": "markdown",
   "metadata": {},
   "source": [
    "Print all parameters "
   ]
  },
  {
   "cell_type": "code",
   "execution_count": 42,
   "metadata": {},
   "outputs": [
    {
     "data": {
      "text/plain": [
       "g            9.8         \n",
       "a            0.0         \n",
       "b            0.0         \n",
       "c            0.0         "
      ]
     },
     "execution_count": 42,
     "metadata": {},
     "output_type": "execute_result"
    }
   ],
   "source": [
    "sys.parameters"
   ]
  },
  {
   "cell_type": "markdown",
   "metadata": {},
   "source": [
    "Print latex names of the parameters"
   ]
  },
  {
   "cell_type": "code",
   "execution_count": 43,
   "metadata": {},
   "outputs": [
    {
     "data": {
      "text/latex": [
       "$\\displaystyle  ~\\alpha ~\\beta ~\\gamma$"
      ],
      "text/plain": [
       "<IPython.core.display.Math object>"
      ]
     },
     "execution_count": 43,
     "metadata": {},
     "output_type": "execute_result"
    }
   ],
   "source": [
    "Math(' ~'.join([param.tex_name for param in sys.parameters.values()]))"
   ]
  },
  {
   "cell_type": "markdown",
   "metadata": {},
   "source": [
    "Print all coordindates"
   ]
  },
  {
   "cell_type": "code",
   "execution_count": 44,
   "metadata": {},
   "outputs": [
    {
     "data": {
      "text/plain": [
       "o            0.0         \n",
       "p            0.0         \n",
       "q            0.0         "
      ]
     },
     "execution_count": 44,
     "metadata": {},
     "output_type": "execute_result"
    }
   ],
   "source": [
    "sys.coordinates"
   ]
  },
  {
   "cell_type": "code",
   "execution_count": 45,
   "metadata": {},
   "outputs": [
    {
     "data": {
      "text/plain": [
       "do           0.0         \n",
       "dp           0.0         \n",
       "dq           0.0         "
      ]
     },
     "execution_count": 45,
     "metadata": {},
     "output_type": "execute_result"
    }
   ],
   "source": [
    "sys.velocities"
   ]
  },
  {
   "cell_type": "code",
   "execution_count": 46,
   "metadata": {},
   "outputs": [
    {
     "data": {
      "text/plain": [
       "ddo          0.0         \n",
       "ddp          0.0         \n",
       "ddq          0.0         "
      ]
     },
     "execution_count": 46,
     "metadata": {},
     "output_type": "execute_result"
    }
   ],
   "source": [
    "sys.accelerations"
   ]
  },
  {
   "cell_type": "markdown",
   "metadata": {},
   "source": [
    "Print all symbols"
   ]
  },
  {
   "cell_type": "code",
   "execution_count": 47,
   "metadata": {},
   "outputs": [
    {
     "data": {
      "text/plain": [
       "coordinate         o            0.0         \n",
       "coordinate         p            0.0         \n",
       "coordinate         q            0.0         \n",
       "velocity           do           0.0         \n",
       "velocity           dp           0.0         \n",
       "velocity           dq           0.0         \n",
       "acceleration       ddo          0.0         \n",
       "acceleration       ddp          0.0         \n",
       "acceleration       ddq          0.0         \n",
       "parameter          g            9.8         \n",
       "parameter          a            0.0         \n",
       "parameter          b            0.0         \n",
       "parameter          c            0.0         "
      ]
     },
     "execution_count": 47,
     "metadata": {},
     "output_type": "execute_result"
    }
   ],
   "source": [
    "sys.symbols"
   ]
  },
  {
   "cell_type": "markdown",
   "metadata": {},
   "source": [
    "Set the numeric value of symbols"
   ]
  },
  {
   "cell_type": "code",
   "execution_count": 53,
   "metadata": {},
   "outputs": [],
   "source": [
    "sys.parameters['a'].value, sys.parameters['b'].value, sys.parameters['c'] = [k*pi for k in range(1, 4)]"
   ]
  },
  {
   "cell_type": "code",
   "execution_count": 54,
   "metadata": {},
   "outputs": [],
   "source": [
    "sys.symbols['do'].value = sys.symbols['dp'].value = sys.symbols['dq'].value = e"
   ]
  },
  {
   "cell_type": "code",
   "execution_count": 57,
   "metadata": {},
   "outputs": [],
   "source": [
    "for name in ('ddo', 'ddp', 'ddq'):\n",
    "    sys.set_value(name, random())"
   ]
  },
  {
   "cell_type": "code",
   "execution_count": 58,
   "metadata": {},
   "outputs": [
    {
     "data": {
      "text/plain": [
       "coordinate         o            0.0         \n",
       "coordinate         p            0.0         \n",
       "coordinate         q            0.0         \n",
       "velocity           do           2.7183      \n",
       "velocity           dp           2.7183      \n",
       "velocity           dq           2.7183      \n",
       "acceleration       ddo          0.642       \n",
       "acceleration       ddp          0.5966      \n",
       "acceleration       ddq          0.692       \n",
       "parameter          g            9.8         \n",
       "parameter          a            3.1416      \n",
       "parameter          b            6.2832      \n",
       "parameter          c            0.0         "
      ]
     },
     "execution_count": 58,
     "metadata": {},
     "output_type": "execute_result"
    }
   ],
   "source": [
    "sys.symbols"
   ]
  },
  {
   "cell_type": "code",
   "execution_count": null,
   "metadata": {},
   "outputs": [],
   "source": []
  }
 ],
 "metadata": {
  "kernelspec": {
   "display_name": "Python 3",
   "language": "python",
   "name": "python3"
  },
  "language_info": {
   "codemirror_mode": {
    "name": "ipython",
    "version": 3
   },
   "file_extension": ".py",
   "mimetype": "text/x-python",
   "name": "python",
   "nbconvert_exporter": "python",
   "pygments_lexer": "ipython3",
   "version": "3.7.3"
  }
 },
 "nbformat": 4,
 "nbformat_minor": 2
}
