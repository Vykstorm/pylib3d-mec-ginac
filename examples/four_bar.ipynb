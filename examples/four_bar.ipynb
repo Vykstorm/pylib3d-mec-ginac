{
 "cells": [
  {
   "cell_type": "markdown",
   "metadata": {},
   "source": [
    "## Imports"
   ]
  },
  {
   "cell_type": "code",
   "execution_count": 1,
   "metadata": {},
   "outputs": [],
   "source": [
    "from IPython.display import Math\n",
    "from lib3d_mec_ginac import *\n",
    "from math import pi, e\n",
    "from warnings import filterwarnings\n",
    "import pandas as pd\n",
    "import builtins"
   ]
  },
  {
   "cell_type": "code",
   "execution_count": 2,
   "metadata": {},
   "outputs": [],
   "source": [
    "filterwarnings('ignore')"
   ]
  },
  {
   "cell_type": "markdown",
   "metadata": {},
   "source": [
    "Set gravity value"
   ]
  },
  {
   "cell_type": "code",
   "execution_count": 3,
   "metadata": {},
   "outputs": [],
   "source": [
    "g = get_param('g')\n",
    "set_value('g', 9.80665)"
   ]
  },
  {
   "cell_type": "markdown",
   "metadata": {},
   "source": [
    "Setup a few configuration parameters"
   ]
  },
  {
   "cell_type": "code",
   "execution_count": 4,
   "metadata": {},
   "outputs": [],
   "source": [
    " # Integration step\n",
    "delta_t =             .003\n",
    "# Assembly init problem solver parameters\n",
    "geom_eq_init_tol =    1e-10\n",
    "geom_eq_init_relax =  .1\n",
    "# Assembly problem solver parameters\n",
    "geom_eq_tol =         delta_t**2 * 10**-3\n",
    "geom_eq_relax =       .1\n",
    "# Equilibrium problem solver parameters\n",
    "dyn_eq_tol =          1.0e-10\n",
    "dyn_eq_relax =        .1\n",
    "# Perturbed dynamic state solver parameters\n",
    "per_dyn_state_tol =   1e-12\n",
    "# ..."
   ]
  },
  {
   "cell_type": "markdown",
   "metadata": {},
   "source": [
    "### Generalized coordinates, velocities and accelerations"
   ]
  },
  {
   "cell_type": "code",
   "execution_count": 5,
   "metadata": {},
   "outputs": [],
   "source": [
    "theta1, dtheta1, ddtheta1 = new_coord('theta1', -pi/6, 0)\n",
    "theta2, dtheta2, ddtheta2 = new_coord('theta2', -2*pi/6, 0)\n",
    "theta3, dtheta3, ddtheta3 = new_coord('theta3', -3*pi/6, 0)"
   ]
  },
  {
   "cell_type": "markdown",
   "metadata": {},
   "source": [
    "### Kinematical parameters"
   ]
  },
  {
   "cell_type": "code",
   "execution_count": 6,
   "metadata": {},
   "outputs": [],
   "source": [
    "l1, l2 = new_param('l1', 0.4), new_param('l2', 2.0)\n",
    "l3, l4 = new_param('l3', 1.2), new_param('l4', 1.6)"
   ]
  },
  {
   "cell_type": "markdown",
   "metadata": {},
   "source": [
    "### Bases"
   ]
  },
  {
   "cell_type": "code",
   "execution_count": 7,
   "metadata": {},
   "outputs": [],
   "source": [
    "new_base('Barm1', 'xyz', [0, 1, 0], theta1)\n",
    "new_base('Barm2', 'xyz', 0, 1, 0, theta2)\n",
    "new_base('Barm3', 'xyz', rotation_tupla=[0, 1, 0], rotation_angle=theta3);"
   ]
  },
  {
   "cell_type": "markdown",
   "metadata": {},
   "source": [
    "### Vectors"
   ]
  },
  {
   "cell_type": "code",
   "execution_count": 8,
   "metadata": {},
   "outputs": [],
   "source": [
    "new_vector('OA', l1, 0, 0, 'Barm1')\n",
    "new_vector('AB', l2, 0, 0, 'Barm2')\n",
    "new_vector('BC', [l3, 0, 0], 'Barm3')\n",
    "new_vector('OO2', values=[l4, 0, 0], base='xyz');"
   ]
  },
  {
   "cell_type": "markdown",
   "metadata": {},
   "source": [
    "### Points"
   ]
  },
  {
   "cell_type": "code",
   "execution_count": 9,
   "metadata": {},
   "outputs": [],
   "source": [
    "new_point('A',  'O', 'OA')\n",
    "new_point('B',  'A', 'AB')\n",
    "new_point('C',  'B', 'BC')\n",
    "new_point('O2', 'O', 'OO2');"
   ]
  },
  {
   "cell_type": "markdown",
   "metadata": {},
   "source": [
    "### Dynamical parameters"
   ]
  },
  {
   "cell_type": "code",
   "execution_count": 10,
   "metadata": {},
   "outputs": [],
   "source": [
    "m1, m2, m3 = new_param('m1', 1), new_param('m2', 1), new_param('m3', 1);"
   ]
  },
  {
   "cell_type": "code",
   "execution_count": 11,
   "metadata": {},
   "outputs": [],
   "source": [
    "cg1x, cg1z = new_param('cg1x', 0.2), new_param('cg1z', 0.1)\n",
    "cg2x, cg2z = new_param('cg2x', 1),   new_param('cg2z', 0.1)\n",
    "cg3x, cg3z = new_param('cg3x', 0.6), new_param('cg3z', 0.1)"
   ]
  },
  {
   "cell_type": "code",
   "execution_count": 12,
   "metadata": {},
   "outputs": [],
   "source": [
    "new_vector('OArm1_GArm1', cg1x, 0, cg1z, 'Barm1')\n",
    "new_vector('OArm2_GArm2', cg2x, 0, cg2z, 'Barm2')\n",
    "new_vector('OArm3_GArm3', cg3x, 0, cg3z, 'Barm3');"
   ]
  },
  {
   "cell_type": "code",
   "execution_count": 13,
   "metadata": {},
   "outputs": [],
   "source": [
    "I1yy, I2yy, I3yy = [new_param(name, 1) for name in ('I1yy', 'I2yy', 'I3yy')];"
   ]
  },
  {
   "cell_type": "code",
   "execution_count": 14,
   "metadata": {},
   "outputs": [],
   "source": [
    "I_Arm1 = new_tensor('Iarm1', base='Barm1')\n",
    "I_Arm2 = new_tensor('Iarm2', base='Barm2')\n",
    "I_Arm3 = new_tensor('Iarm3', base='Barm3')\n",
    "I_Arm1[1, 1], I_Arm2[1, 1], I_Arm3[1, 1] = I1yy, I2yy, I3yy"
   ]
  },
  {
   "cell_type": "markdown",
   "metadata": {},
   "source": [
    "### Frames"
   ]
  },
  {
   "cell_type": "code",
   "execution_count": 15,
   "metadata": {},
   "outputs": [],
   "source": [
    "new_frame('FArm1',    'O',  'Barm1')\n",
    "new_frame('FArm2',    'A',  'Barm2')\n",
    "new_frame('FArm3',    'B',  'Barm3')\n",
    "new_frame('Fra_ABS2', 'O2', 'xyz');"
   ]
  },
  {
   "cell_type": "markdown",
   "metadata": {},
   "source": [
    "### Solids"
   ]
  },
  {
   "cell_type": "code",
   "execution_count": 16,
   "metadata": {},
   "outputs": [],
   "source": [
    "new_solid('Arm1', 'O', 'Barm1', 'm1', 'OArm1_GArm1', 'Iarm1')\n",
    "new_solid('Arm2', 'A', 'Barm2', 'm2', 'OArm2_GArm2', 'Iarm2')\n",
    "new_solid('Arm3', 'B', 'Barm3', 'm3', 'OArm3_GArm3', 'Iarm3');"
   ]
  },
  {
   "cell_type": "markdown",
   "metadata": {},
   "source": [
    "### Joint unknowns"
   ]
  },
  {
   "cell_type": "code",
   "execution_count": 17,
   "metadata": {},
   "outputs": [],
   "source": [
    "new_unknown('lambda1')\n",
    "new_unknown('lambda2');"
   ]
  },
  {
   "cell_type": "markdown",
   "metadata": {},
   "source": [
    "### Inputs"
   ]
  },
  {
   "cell_type": "code",
   "execution_count": 18,
   "metadata": {},
   "outputs": [],
   "source": [
    "Fx2, Fz2 = new_input('Fx2'), new_input('Fz2')\n",
    "Fx3, Fz3 = new_input('Fx3'), new_input('Fz3')\n",
    "My2, My3 = new_input('My2'), new_input('My3')\n",
    "\n",
    "new_vector('Fext2', Fx2, 0,   Fz2, 'xyz')\n",
    "new_vector('Fext3', Fx3, 0,   Fz3, 'xyz')\n",
    "new_vector('Mext2', 0,   My2, 0,   'xyz')\n",
    "new_vector('Mext3', 0,   My3, 0,   'xyz');"
   ]
  },
  {
   "cell_type": "markdown",
   "metadata": {},
   "source": [
    "### Force and momentum"
   ]
  },
  {
   "cell_type": "code",
   "execution_count": 19,
   "metadata": {},
   "outputs": [],
   "source": [
    "K   = new_param('k',     50)\n",
    "l2x = new_param('l2x',    1)\n",
    "l3x = new_param('l3x',  0.5)\n",
    "l3z = new_param('l3z',  0.1)\n",
    "\n",
    "new_vector('OArm2_L2',  l2x, 0, 0,   'Barm2')\n",
    "new_vector('OArm3_L3',  l3x, 0, l3z, 'Barm3')\n",
    "\n",
    "new_point('OL2', 'A', 'OArm2_L2')\n",
    "new_point('OL3', 'B', 'OArm3_L3')\n",
    "\n",
    "OL2_OL3 = position_vector('OL2', 'OL3')\n",
    "FK = K * OL2_OL3\n",
    "MK = new_vector('MK_GroundPend1', 0, 0, 0, 'xyz');"
   ]
  },
  {
   "cell_type": "markdown",
   "metadata": {},
   "source": [
    "### Gravity wrenches"
   ]
  },
  {
   "cell_type": "code",
   "execution_count": 20,
   "metadata": {},
   "outputs": [],
   "source": [
    "Gravity_Arm1 = gravity_wrench('Arm1')\n",
    "Gravity_Arm2 = gravity_wrench('Arm2')\n",
    "Gravity_Arm3 = gravity_wrench('Arm3');"
   ]
  },
  {
   "cell_type": "markdown",
   "metadata": {},
   "source": [
    "### Inertia wrenches"
   ]
  },
  {
   "cell_type": "code",
   "execution_count": 21,
   "metadata": {},
   "outputs": [],
   "source": [
    "Inertia_Arm1 = inertia_wrench('Arm1')\n",
    "Inertia_Arm2 = inertia_wrench('Arm2')\n",
    "Inertia_Arm3 = inertia_wrench('Arm3');"
   ]
  },
  {
   "cell_type": "markdown",
   "metadata": {},
   "source": [
    "### Constitutive wrenches"
   ]
  },
  {
   "cell_type": "code",
   "execution_count": 22,
   "metadata": {},
   "outputs": [],
   "source": [
    "SpringA = new_wrench('SpringA', FK,   MK, 'OL2', 'Arm2', 'Constitutive')\n",
    "SpringR = new_wrench('SpringR', -FK, -MK, 'OL3', 'Arm3', 'Constitutive');"
   ]
  },
  {
   "cell_type": "markdown",
   "metadata": {},
   "source": [
    "### External wrenches"
   ]
  },
  {
   "cell_type": "code",
   "execution_count": 23,
   "metadata": {},
   "outputs": [],
   "source": [
    "FMext2 = new_wrench('FMext2', 'Fext2', 'Mext2', 'A', 'Arm2', 'External')\n",
    "FMext3 = new_wrench('FMext3', 'Fext3', 'Mext3', 'B', 'Arm3', 'External');"
   ]
  },
  {
   "cell_type": "markdown",
   "metadata": {},
   "source": [
    "### Wrenches sums"
   ]
  },
  {
   "cell_type": "code",
   "execution_count": 24,
   "metadata": {},
   "outputs": [],
   "source": [
    "Sum_Wrenches_Arm1 = Inertia_Arm1 + Gravity_Arm1\n",
    "Sum_Wrenches_Arm2 = Inertia_Arm2 + Gravity_Arm2 + SpringA - FMext2\n",
    "Sum_Wrenches_Arm3 = Inertia_Arm3 + Gravity_Arm3 - SpringA + FMext3"
   ]
  },
  {
   "cell_type": "markdown",
   "metadata": {},
   "source": [
    "### Twists"
   ]
  },
  {
   "cell_type": "code",
   "execution_count": 25,
   "metadata": {},
   "outputs": [],
   "source": [
    "Twist_Arm1, Twist_Arm2, Twist_Arm3 = twist('Arm1'), twist('Arm2'), twist('Arm3')"
   ]
  },
  {
   "cell_type": "markdown",
   "metadata": {},
   "source": [
    "### Symbols matrices"
   ]
  },
  {
   "cell_type": "code",
   "execution_count": 26,
   "metadata": {},
   "outputs": [],
   "source": [
    "q, q_aux = get_coords_matrix(), get_aux_coords_matrix()"
   ]
  },
  {
   "cell_type": "code",
   "execution_count": 27,
   "metadata": {},
   "outputs": [],
   "source": [
    "dq, dq_aux = get_velocities_matrix(), get_aux_velocities_matrix()"
   ]
  },
  {
   "cell_type": "code",
   "execution_count": 28,
   "metadata": {},
   "outputs": [],
   "source": [
    "ddq, ddq_aux = get_accelerations_matrix(), get_aux_accelerations_matrix()"
   ]
  },
  {
   "cell_type": "code",
   "execution_count": 29,
   "metadata": {},
   "outputs": [],
   "source": [
    "epsilon = get_unknowns_matrix()\n",
    "param = get_params_matrix()\n",
    "input = get_inputs_matrix()"
   ]
  },
  {
   "cell_type": "markdown",
   "metadata": {},
   "source": [
    "### Kinematic equations"
   ]
  },
  {
   "cell_type": "code",
   "execution_count": 30,
   "metadata": {},
   "outputs": [],
   "source": [
    "O2C = position_vector('O2', 'C')\n",
    "e_x = new_vector('e_x', 1, 0, 0, 'xyz')\n",
    "e_z = new_vector('e_z', 0, 0, 1, 'xyz');"
   ]
  },
  {
   "cell_type": "code",
   "execution_count": 31,
   "metadata": {},
   "outputs": [],
   "source": [
    "Phi = Matrix(shape=[2, 1])\n",
    "Phi[0] = O2C * e_x\n",
    "Phi[1] = O2C * e_z"
   ]
  },
  {
   "cell_type": "code",
   "execution_count": 34,
   "metadata": {},
   "outputs": [],
   "source": [
    "dPhi = derivative(Phi)"
   ]
  },
  {
   "cell_type": "code",
   "execution_count": 39,
   "metadata": {},
   "outputs": [],
   "source": [
    "ddPhi = derivative(dPhi)"
   ]
  },
  {
   "cell_type": "code",
   "execution_count": 41,
   "metadata": {},
   "outputs": [],
   "source": [
    "beta = -dPhi\n",
    "beta = subs(beta, dq, 0)\n",
    "beta = subs(beta, dq_aux, 0)"
   ]
  },
  {
   "cell_type": "code",
   "execution_count": 42,
   "metadata": {},
   "outputs": [],
   "source": [
    "Phi_q = jacobian(Phi.transpose(), Matrix.block(2, 1, q, q_aux))"
   ]
  },
  {
   "cell_type": "code",
   "execution_count": 43,
   "metadata": {},
   "outputs": [],
   "source": [
    "dPhi_dq = jacobian(dPhi.transpose(), Matrix.block(2, 1, dq, dq_aux))"
   ]
  },
  {
   "cell_type": "code",
   "execution_count": 44,
   "metadata": {},
   "outputs": [],
   "source": [
    "gamma = -ddPhi\n",
    "gamma = subs(gamma, ddq, 0)\n",
    "gamma = subs(gamma, ddq_aux, 0)"
   ]
  },
  {
   "cell_type": "markdown",
   "metadata": {},
   "source": [
    "Phi_init"
   ]
  },
  {
   "cell_type": "code",
   "execution_count": 45,
   "metadata": {},
   "outputs": [],
   "source": [
    "Phi_init = Matrix([theta1 + pi / 2])\n",
    "dPhi_init = Matrix([dtheta1 + pi / 2])"
   ]
  },
  {
   "cell_type": "markdown",
   "metadata": {},
   "source": [
    "### Dynamic equations"
   ]
  },
  {
   "cell_type": "code",
   "execution_count": 46,
   "metadata": {},
   "outputs": [],
   "source": [
    "Dyn_eq_VP = Matrix(shape=[3, 1], values=[\n",
    "    Sum_Wrenches_Arm1*diff(Twist_Arm1, dtheta1) + Sum_Wrenches_Arm2*diff(Twist_Arm2,dtheta1) + Sum_Wrenches_Arm3*diff(Twist_Arm3,dtheta1),\n",
    "    Sum_Wrenches_Arm1*diff(Twist_Arm1, dtheta2) + Sum_Wrenches_Arm2*diff(Twist_Arm2,dtheta2) + Sum_Wrenches_Arm3*diff(Twist_Arm3,dtheta2),\n",
    "    Sum_Wrenches_Arm1*diff(Twist_Arm1, dtheta3) + Sum_Wrenches_Arm2*diff(Twist_Arm2,dtheta3) + Sum_Wrenches_Arm3*diff(Twist_Arm3,dtheta3)\n",
    "])"
   ]
  },
  {
   "cell_type": "markdown",
   "metadata": {},
   "source": [
    "### Output vector"
   ]
  },
  {
   "cell_type": "code",
   "execution_count": 47,
   "metadata": {},
   "outputs": [],
   "source": [
    "Output = new_matrix('Output', shape=[1, 1])"
   ]
  },
  {
   "cell_type": "markdown",
   "metadata": {},
   "source": [
    "### Energy equations"
   ]
  },
  {
   "cell_type": "code",
   "execution_count": 49,
   "metadata": {},
   "outputs": [],
   "source": [
    "Energy = new_matrix('Energy', shape=[1, 1])\n",
    "\n",
    "Dyn_eq_VP_open = Dyn_eq_VP\n",
    "Dyn_eq_VP_open = subs(Dyn_eq_VP_open, epsilon, 0)"
   ]
  },
  {
   "cell_type": "code",
   "execution_count": 50,
   "metadata": {},
   "outputs": [],
   "source": [
    "Dyn_eq_L = Dyn_eq_VP\n",
    "M_qq = jacobian(Dyn_eq_VP_open.transpose(), ddq, True)"
   ]
  },
  {
   "cell_type": "code",
   "execution_count": 51,
   "metadata": {},
   "outputs": [],
   "source": [
    "delta_q = -Dyn_eq_VP_open\n",
    "delta_q = subs(delta_q, ddq, 0)\n",
    "delta_q = subs(delta_q, ddq_aux, 0)"
   ]
  },
  {
   "cell_type": "code",
   "execution_count": 52,
   "metadata": {},
   "outputs": [],
   "source": [
    "Phi_init = Matrix.block(2, 1, Phi, Phi_init)"
   ]
  },
  {
   "cell_type": "code",
   "execution_count": 53,
   "metadata": {},
   "outputs": [],
   "source": [
    "dPhi_init_dq = jacobian(dPhi_init.transpose(), Matrix.block(2, 1, dq, dq_aux))"
   ]
  },
  {
   "cell_type": "code",
   "execution_count": 54,
   "metadata": {},
   "outputs": [],
   "source": [
    "beta_init = -dPhi_init\n",
    "beta_init = subs(beta_init, dq, 0)\n",
    "beta_init = subs(beta_init, ddq_aux, 0)"
   ]
  },
  {
   "cell_type": "code",
   "execution_count": 55,
   "metadata": {},
   "outputs": [],
   "source": [
    "Extra_Dyn_Eq_eq = Matrix([dtheta1, ddtheta1]).transpose()"
   ]
  },
  {
   "cell_type": "code",
   "execution_count": 56,
   "metadata": {},
   "outputs": [],
   "source": [
    "Dyn_Eq_eq_VP = Matrix.block(5, 1, Dyn_eq_L, ddPhi, dPhi, Phi, Extra_Dyn_Eq_eq)"
   ]
  },
  {
   "cell_type": "code",
   "execution_count": null,
   "metadata": {},
   "outputs": [],
   "source": []
  }
 ],
 "metadata": {
  "kernelspec": {
   "display_name": "Python 3",
   "language": "python",
   "name": "python3"
  },
  "language_info": {
   "codemirror_mode": {
    "name": "ipython",
    "version": 3
   },
   "file_extension": ".py",
   "mimetype": "text/x-python",
   "name": "python",
   "nbconvert_exporter": "python",
   "pygments_lexer": "ipython3",
   "version": "3.7.3"
  }
 },
 "nbformat": 4,
 "nbformat_minor": 2
}
