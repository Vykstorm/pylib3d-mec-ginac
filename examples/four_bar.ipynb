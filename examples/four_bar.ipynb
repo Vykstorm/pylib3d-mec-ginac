{
 "cells": [
  {
   "cell_type": "markdown",
   "metadata": {},
   "source": [
    "## Imports"
   ]
  },
  {
   "cell_type": "code",
   "execution_count": 1,
   "metadata": {},
   "outputs": [],
   "source": [
    "from IPython.display import Math\n",
    "from lib3d_mec_ginac import *\n",
    "from math import pi, e"
   ]
  },
  {
   "cell_type": "markdown",
   "metadata": {},
   "source": [
    "Gravity vector"
   ]
  },
  {
   "cell_type": "code",
   "execution_count": 3,
   "metadata": {},
   "outputs": [],
   "source": [
    "g = get_param('g')"
   ]
  },
  {
   "cell_type": "code",
   "execution_count": 4,
   "metadata": {},
   "outputs": [],
   "source": [
    "gravity_vector = Vector3D(0, 0, g, get_base('xyz')) # change to -g (no ops implemented)"
   ]
  },
  {
   "cell_type": "code",
   "execution_count": 5,
   "metadata": {},
   "outputs": [
    {
     "data": {
      "text/plain": [
       "[ 0, 0, g ]"
      ]
     },
     "execution_count": 5,
     "metadata": {},
     "output_type": "execute_result"
    }
   ],
   "source": [
    "gravity_vector"
   ]
  },
  {
   "cell_type": "code",
   "execution_count": 6,
   "metadata": {},
   "outputs": [],
   "source": [
    " # Integration step\n",
    "delta_t =             .003\n",
    "# Assembly init problem solver parameters\n",
    "geom_eq_init_tol =    1e-10\n",
    "geom_eq_init_relax =  .1\n",
    "# Assembly problem solver parameters\n",
    "geom_eq_tol =         delta_t**2 * 10**-3\n",
    "geom_eq_relax =       .1\n",
    "# Equilibrium problem solver parameters\n",
    "dyn_eq_tol =          1.0e-10\n",
    "dyn_eq_relax =        .1\n",
    "# Perturbed dynamic state solver parameters\n",
    "per_dyn_state_tol =   1e-12\n",
    "# ..."
   ]
  },
  {
   "cell_type": "markdown",
   "metadata": {},
   "source": [
    "Generalized coordinates, velocities and accelerations"
   ]
  },
  {
   "cell_type": "code",
   "execution_count": 7,
   "metadata": {},
   "outputs": [],
   "source": [
    "theta1, dtheta1, ddtheta1 = new_coord('theta1', -pi/6, 0)\n",
    "theta2, dtheta2, ddtheta2 = new_coord('theta2', -2*pi/6, 0)\n",
    "theta3, dtheta3, ddtheta3 = new_coord('theta3', -3*pi/6, 0)"
   ]
  },
  {
   "cell_type": "code",
   "execution_count": 8,
   "metadata": {},
   "outputs": [
    {
     "data": {
      "text/plain": [
       "theta1  -0.523599\n",
       "theta2  -1.0472\n",
       "theta3  -1.5708"
      ]
     },
     "execution_count": 8,
     "metadata": {},
     "output_type": "execute_result"
    }
   ],
   "source": [
    "get_coordinates()"
   ]
  },
  {
   "cell_type": "code",
   "execution_count": 9,
   "metadata": {},
   "outputs": [
    {
     "data": {
      "text/plain": [
       "dtheta1  0\n",
       "dtheta2  0\n",
       "dtheta3  0"
      ]
     },
     "execution_count": 9,
     "metadata": {},
     "output_type": "execute_result"
    }
   ],
   "source": [
    "get_velocities()"
   ]
  },
  {
   "cell_type": "code",
   "execution_count": 10,
   "metadata": {},
   "outputs": [
    {
     "data": {
      "text/plain": [
       "ddtheta1  0\n",
       "ddtheta2  0\n",
       "ddtheta3  0"
      ]
     },
     "execution_count": 10,
     "metadata": {},
     "output_type": "execute_result"
    }
   ],
   "source": [
    "get_accelerations()"
   ]
  },
  {
   "cell_type": "markdown",
   "metadata": {},
   "source": [
    "Geometric parameters"
   ]
  },
  {
   "cell_type": "code",
   "execution_count": 11,
   "metadata": {},
   "outputs": [],
   "source": [
    "l1, l2 = new_param('l1', 0.4), new_param('l2', 2.0)\n",
    "l3, l4 = new_param('l3', 1.2), new_param('l4', 1.6)"
   ]
  },
  {
   "cell_type": "code",
   "execution_count": 12,
   "metadata": {},
   "outputs": [],
   "source": [
    "new_base('Barm1', 'xyz', [0, 1, 0], theta1)\n",
    "new_base('Barm2', 'xyz', 0, 1, 0, theta2)\n",
    "new_base('Barm3', 'xyz', rotation_tupla=[0, 1, 0], rotation_angle=theta3);"
   ]
  },
  {
   "cell_type": "code",
   "execution_count": 13,
   "metadata": {},
   "outputs": [],
   "source": [
    "OA = new_vector('O_A', l1, 0, 0, 'Barm1')\n",
    "AB = new_vector('A_B', l2, 0, 0, 'Barm2')\n",
    "BC = new_vector('B_C', [l3, 0, 0], 'Barm3')\n",
    "OO2 = new_vector('OO2', values=[l4, 0, 0], base='xyz')"
   ]
  },
  {
   "cell_type": "code",
   "execution_count": 14,
   "metadata": {},
   "outputs": [],
   "source": [
    "new_point('OA', 'O', OA)\n",
    "new_point('OB', 'OA', AB)\n",
    "new_point('OC', 'OB', BC)\n",
    "new_point('O2', 'O', OO2);"
   ]
  },
  {
   "cell_type": "code",
   "execution_count": 15,
   "metadata": {},
   "outputs": [],
   "source": [
    "m1, m2, m3 = new_param('m1', 1), new_param('m2', 1), new_param('m3', 1)"
   ]
  },
  {
   "cell_type": "code",
   "execution_count": 16,
   "metadata": {},
   "outputs": [],
   "source": [
    "cg1x, cg1z = new_param('cg1x', 0.2), new_param('cg1z', 0.1)\n",
    "cg2x, cg2z = new_param('cg2x', 1),   new_param('cg2z', 0.1)\n",
    "cg3x, cg3z = new_param('cg3x', 0.6), new_param('cg3z', 0.1)"
   ]
  },
  {
   "cell_type": "code",
   "execution_count": 17,
   "metadata": {},
   "outputs": [],
   "source": [
    "OArm1GArm1 = new_vector('OArm1_Garm1', cg1x, 0, cg1z, 'Barm1')\n",
    "OArm2GArm2 = new_vector('OArm2_GArm2', cg2x, 0, cg2z, 'Barm2')\n",
    "OArm3GArm3 = new_vector('OArm3_GArm3', cg3x, 0, cg3z, 'Barm3')"
   ]
  },
  {
   "cell_type": "code",
   "execution_count": 18,
   "metadata": {},
   "outputs": [],
   "source": [
    "I1yy, I2yy, I3yy = [new_param(name, 1) for name in ('I1yy', 'I2yy', 'I3yy')]"
   ]
  },
  {
   "cell_type": "code",
   "execution_count": 19,
   "metadata": {},
   "outputs": [
    {
     "data": {
      "text/plain": [
       "name      type              value\n",
       "theta1    coordinate    -0.523599\n",
       "theta2    coordinate    -1.0472\n",
       "theta3    coordinate    -1.5708\n",
       "dtheta1   velocity       0\n",
       "dtheta2   velocity       0\n",
       "dtheta3   velocity       0\n",
       "ddtheta1  acceleration   0\n",
       "ddtheta2  acceleration   0\n",
       "ddtheta3  acceleration   0\n",
       "g         parameter      9.8\n",
       "l1        parameter      0.4\n",
       "l2        parameter      2\n",
       "l3        parameter      1.2\n",
       "l4        parameter      1.6\n",
       "m1        parameter      1\n",
       "m2        parameter      1\n",
       "m3        parameter      1\n",
       "cg1x      parameter      0.2\n",
       "cg1z      parameter      0.1\n",
       "cg2x      parameter      1\n",
       "cg2z      parameter      0.1\n",
       "cg3x      parameter      0.6\n",
       "cg3z      parameter      0.1\n",
       "I1yy      parameter      1\n",
       "I2yy      parameter      1\n",
       "I3yy      parameter      1"
      ]
     },
     "execution_count": 19,
     "metadata": {},
     "output_type": "execute_result"
    }
   ],
   "source": [
    "sys.symbols"
   ]
  },
  {
   "cell_type": "code",
   "execution_count": 20,
   "metadata": {},
   "outputs": [
    {
     "data": {
      "text/plain": [
       "xyz\n",
       " +-- Barm1\n",
       " +-- Barm2\n",
       " +-- Barm3"
      ]
     },
     "execution_count": 20,
     "metadata": {},
     "output_type": "execute_result"
    }
   ],
   "source": [
    "sys.bases"
   ]
  },
  {
   "cell_type": "code",
   "execution_count": 24,
   "metadata": {},
   "outputs": [
    {
     "data": {
      "text/plain": [
       "name    x    y    z    base    previous\n",
       "O\n",
       "OA      l1   0    0    Barm1   O\n",
       "OB      l2   0    0    Barm2   OA\n",
       "OC      l3   0    0    Barm3   OB\n",
       "O2      l4   0    0    xyz     O"
      ]
     },
     "execution_count": 24,
     "metadata": {},
     "output_type": "execute_result"
    }
   ],
   "source": [
    "sys.points"
   ]
  },
  {
   "cell_type": "code",
   "execution_count": 25,
   "metadata": {},
   "outputs": [
    {
     "data": {
      "text/plain": [
       "name         x     y    z     base\n",
       "O_A          l1    0    0     Barm1\n",
       "A_B          l2    0    0     Barm2\n",
       "B_C          l3    0    0     Barm3\n",
       "OO2          l4    0    0     xyz\n",
       "OArm1_Garm1  cg1x  0    cg1z  Barm1\n",
       "OArm2_GArm2  cg2x  0    cg2z  Barm2\n",
       "OArm3_GArm3  cg3x  0    cg3z  Barm3"
      ]
     },
     "execution_count": 25,
     "metadata": {},
     "output_type": "execute_result"
    }
   ],
   "source": [
    "sys.vectors"
   ]
  },
  {
   "cell_type": "code",
   "execution_count": 29,
   "metadata": {},
   "outputs": [
    {
     "data": {
      "text/plain": [
       "╭                    ╮\n",
       "│    0  -cg1z      0 │\n",
       "│ cg1z      0  -cg1x │\n",
       "│    0   cg1x      0 │\n",
       "╰                    ╯"
      ]
     },
     "execution_count": 29,
     "metadata": {},
     "output_type": "execute_result"
    }
   ],
   "source": [
    "OArm1GArm1.skew"
   ]
  },
  {
   "cell_type": "code",
   "execution_count": 34,
   "metadata": {},
   "outputs": [
    {
     "data": {
      "text/plain": [
       "╭                    ╮\n",
       "│     0   cg1z     0 │\n",
       "│ -cg1z      0  cg1x │\n",
       "│     0  -cg1x     0 │\n",
       "╰                    ╯"
      ]
     },
     "execution_count": 34,
     "metadata": {},
     "output_type": "execute_result"
    }
   ],
   "source": [
    "OArm1GArm1.skew.transpose()"
   ]
  },
  {
   "cell_type": "code",
   "execution_count": 36,
   "metadata": {},
   "outputs": [
    {
     "data": {
      "text/plain": [
       "(cg1z**2+cg1x**2)**(1/2)"
      ]
     },
     "execution_count": 36,
     "metadata": {},
     "output_type": "execute_result"
    }
   ],
   "source": [
    "OArm1GArm1.module"
   ]
  },
  {
   "cell_type": "code",
   "execution_count": null,
   "metadata": {},
   "outputs": [],
   "source": []
  }
 ],
 "metadata": {
  "kernelspec": {
   "display_name": "Python 3",
   "language": "python",
   "name": "python3"
  },
  "language_info": {
   "codemirror_mode": {
    "name": "ipython",
    "version": 3
   },
   "file_extension": ".py",
   "mimetype": "text/x-python",
   "name": "python",
   "nbconvert_exporter": "python",
   "pygments_lexer": "ipython3",
   "version": "3.7.4"
  }
 },
 "nbformat": 4,
 "nbformat_minor": 2
}
