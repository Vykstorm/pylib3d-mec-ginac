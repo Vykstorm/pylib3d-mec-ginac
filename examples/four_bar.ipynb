{
 "cells": [
  {
   "cell_type": "markdown",
   "metadata": {},
   "source": [
    "## Imports"
   ]
  },
  {
   "cell_type": "code",
   "execution_count": 1,
   "metadata": {},
   "outputs": [],
   "source": [
    "from IPython.display import Math\n",
    "from lib3d_mec_ginac import *\n",
    "from math import pi, e"
   ]
  },
  {
   "cell_type": "markdown",
   "metadata": {},
   "source": [
    "Set gravity value"
   ]
  },
  {
   "cell_type": "code",
   "execution_count": 2,
   "metadata": {},
   "outputs": [],
   "source": [
    "g = get_param('g')\n",
    "set_value('g', 9.80665)"
   ]
  },
  {
   "cell_type": "markdown",
   "metadata": {},
   "source": [
    "Setup a few configuration parameters"
   ]
  },
  {
   "cell_type": "code",
   "execution_count": 3,
   "metadata": {},
   "outputs": [],
   "source": [
    " # Integration step\n",
    "delta_t =             .003\n",
    "# Assembly init problem solver parameters\n",
    "geom_eq_init_tol =    1e-10\n",
    "geom_eq_init_relax =  .1\n",
    "# Assembly problem solver parameters\n",
    "geom_eq_tol =         delta_t**2 * 10**-3\n",
    "geom_eq_relax =       .1\n",
    "# Equilibrium problem solver parameters\n",
    "dyn_eq_tol =          1.0e-10\n",
    "dyn_eq_relax =        .1\n",
    "# Perturbed dynamic state solver parameters\n",
    "per_dyn_state_tol =   1e-12\n",
    "# ..."
   ]
  },
  {
   "cell_type": "markdown",
   "metadata": {},
   "source": [
    "Create generalized coordinates, velocities and accelerations"
   ]
  },
  {
   "cell_type": "code",
   "execution_count": 4,
   "metadata": {},
   "outputs": [],
   "source": [
    "theta1, dtheta1, ddtheta1 = new_coord('theta1', -pi/6, 0)\n",
    "theta2, dtheta2, ddtheta2 = new_coord('theta2', -2*pi/6, 0)\n",
    "theta3, dtheta3, ddtheta3 = new_coord('theta3', -3*pi/6, 0)"
   ]
  },
  {
   "cell_type": "markdown",
   "metadata": {},
   "source": [
    "Create geometric parameters"
   ]
  },
  {
   "cell_type": "code",
   "execution_count": 8,
   "metadata": {},
   "outputs": [],
   "source": [
    "l1, l2 = new_param('l1', 0.4), new_param('l2', 2.0)\n",
    "l3, l4 = new_param('l3', 1.2), new_param('l4', 1.6)"
   ]
  },
  {
   "cell_type": "code",
   "execution_count": 9,
   "metadata": {},
   "outputs": [],
   "source": [
    "new_base('Barm1', 'xyz', [0, 1, 0], theta1)\n",
    "new_base('Barm2', 'xyz', 0, 1, 0, theta2)\n",
    "new_base('Barm3', 'xyz', rotation_tupla=[0, 1, 0], rotation_angle=theta3);"
   ]
  },
  {
   "cell_type": "code",
   "execution_count": 10,
   "metadata": {},
   "outputs": [],
   "source": [
    "new_vector('O_A', l1, 0, 0, 'Barm1')\n",
    "new_vector('A_B', l2, 0, 0, 'Barm2')\n",
    "new_vector('B_C', [l3, 0, 0], 'Barm3')\n",
    "new_vector('O_O2', values=[l4, 0, 0], base='xyz');"
   ]
  },
  {
   "cell_type": "code",
   "execution_count": 11,
   "metadata": {},
   "outputs": [],
   "source": [
    "new_point('OA', 'O', 'O_A')\n",
    "new_point('OB', 'OA', 'A_B')\n",
    "new_point('OC', 'OB', 'B_C')\n",
    "new_point('O2', 'O', 'O_O2');"
   ]
  },
  {
   "cell_type": "code",
   "execution_count": 12,
   "metadata": {},
   "outputs": [],
   "source": [
    "m1, m2, m3 = new_param('m1', 1), new_param('m2', 1), new_param('m3', 1)"
   ]
  },
  {
   "cell_type": "code",
   "execution_count": 13,
   "metadata": {},
   "outputs": [],
   "source": [
    "cg1x, cg1z = new_param('cg1x', 0.2), new_param('cg1z', 0.1)\n",
    "cg2x, cg2z = new_param('cg2x', 1),   new_param('cg2z', 0.1)\n",
    "cg3x, cg3z = new_param('cg3x', 0.6), new_param('cg3z', 0.1)"
   ]
  },
  {
   "cell_type": "code",
   "execution_count": 14,
   "metadata": {},
   "outputs": [],
   "source": [
    "new_vector('OArm1_GArm1', cg1x, 0, cg1z, 'Barm1')\n",
    "new_vector('OArm2_GArm2', cg2x, 0, cg2z, 'Barm2')\n",
    "new_vector('OArm3_GArm3', cg3x, 0, cg3z, 'Barm3');"
   ]
  },
  {
   "cell_type": "code",
   "execution_count": 15,
   "metadata": {},
   "outputs": [],
   "source": [
    "I1yy, I2yy, I3yy = [new_param(name, 1) for name in ('I1yy', 'I2yy', 'I3yy')]"
   ]
  },
  {
   "cell_type": "code",
   "execution_count": 16,
   "metadata": {},
   "outputs": [],
   "source": [
    "I_Arm1 = new_tensor('Iarm1', base='Barm1')\n",
    "I_Arm2 = new_tensor('Iarm2', base='Barm2')\n",
    "I_Arm3 = new_tensor('Iarm3', base='Barm3')\n",
    "I_Arm1[1, 1], I_Arm2[1, 1], I_Arm3[1, 1] = I1yy, I2yy, I3yy"
   ]
  },
  {
   "cell_type": "code",
   "execution_count": 17,
   "metadata": {},
   "outputs": [],
   "source": [
    "new_frame('Fra_arm1', 'O',  'Barm1')\n",
    "new_frame('Fra_arm2', 'OA', 'Barm2')\n",
    "new_frame('Fra_arm3', 'OB', 'Barm3')\n",
    "new_frame('Fra_ABS2', 'O2', 'xyz');"
   ]
  },
  {
   "cell_type": "markdown",
   "metadata": {},
   "source": [
    "Define the solids"
   ]
  },
  {
   "cell_type": "code",
   "execution_count": 18,
   "metadata": {},
   "outputs": [],
   "source": [
    "new_solid('arm1', 'O',  'Barm1', 'm1', 'OArm1_GArm1', 'Iarm1')\n",
    "new_solid('arm2', 'OA', 'Barm2', 'm2', 'OArm2_GArm2', 'Iarm2')\n",
    "new_solid('arm3', 'OB', 'Barm3', 'm3', 'OArm3_GArm3', 'Iarm3');"
   ]
  },
  {
   "cell_type": "markdown",
   "metadata": {},
   "source": [
    "Introspect the system:"
   ]
  },
  {
   "cell_type": "code",
   "execution_count": 20,
   "metadata": {},
   "outputs": [
    {
     "data": {
      "text/plain": [
       "name        type              value\n",
       "\"theta1\"    coordinate    -0.523599\n",
       "\"theta2\"    coordinate    -1.0472\n",
       "\"theta3\"    coordinate    -1.5708\n",
       "\"dtheta1\"   velocity       0\n",
       "\"dtheta2\"   velocity       0\n",
       "\"dtheta3\"   velocity       0\n",
       "\"ddtheta1\"  acceleration   0\n",
       "\"ddtheta2\"  acceleration   0\n",
       "\"ddtheta3\"  acceleration   0\n",
       "\"g\"         parameter      9.80665\n",
       "\"l1\"        parameter      0.4\n",
       "\"l2\"        parameter      2\n",
       "\"l3\"        parameter      1.2\n",
       "\"l4\"        parameter      1.6\n",
       "\"m1\"        parameter      1\n",
       "\"m2\"        parameter      1\n",
       "\"m3\"        parameter      1\n",
       "\"cg1x\"      parameter      0.2\n",
       "\"cg1z\"      parameter      0.1\n",
       "\"cg2x\"      parameter      1\n",
       "\"cg2z\"      parameter      0.1\n",
       "\"cg3x\"      parameter      0.6\n",
       "\"cg3z\"      parameter      0.1\n",
       "\"I1yy\"      parameter      1\n",
       "\"I2yy\"      parameter      1\n",
       "\"I3yy\"      parameter      1\n",
       "\"t\"         time           0"
      ]
     },
     "execution_count": 20,
     "metadata": {},
     "output_type": "execute_result"
    }
   ],
   "source": [
    "get_symbols()"
   ]
  },
  {
   "cell_type": "code",
   "execution_count": 21,
   "metadata": {},
   "outputs": [
    {
     "data": {
      "text/plain": [
       "xyz\n",
       " +-- Barm1\n",
       " +-- Barm2\n",
       " +-- Barm3"
      ]
     },
     "execution_count": 21,
     "metadata": {},
     "output_type": "execute_result"
    }
   ],
   "source": [
    "get_bases()"
   ]
  },
  {
   "cell_type": "code",
   "execution_count": 22,
   "metadata": {},
   "outputs": [
    {
     "data": {
      "text/plain": [
       "name           x     y    z     base\n",
       "\"O_A\"          l1    0    0     \"Barm1\"\n",
       "\"A_B\"          l2    0    0     \"Barm2\"\n",
       "\"B_C\"          l3    0    0     \"Barm3\"\n",
       "\"O_O2\"         l4    0    0     \"xyz\"\n",
       "\"OArm1_GArm1\"  cg1x  0    cg1z  \"Barm1\"\n",
       "\"OArm2_GArm2\"  cg2x  0    cg2z  \"Barm2\"\n",
       "\"OArm3_GArm3\"  cg3x  0    cg3z  \"Barm3\""
      ]
     },
     "execution_count": 22,
     "metadata": {},
     "output_type": "execute_result"
    }
   ],
   "source": [
    "get_vectors()"
   ]
  },
  {
   "cell_type": "code",
   "execution_count": 23,
   "metadata": {},
   "outputs": [
    {
     "data": {
      "text/plain": [
       "name     pos.x    pos.y    pos.z    pos.base    previous point\n",
       "\"O\"\n",
       "\"OA\"     l1       0        0        \"Barm1\"     \"O\"\n",
       "\"OB\"     l2       0        0        \"Barm2\"     \"OA\"\n",
       "\"OC\"     l3       0        0        \"Barm3\"     \"OB\"\n",
       "\"O2\"     l4       0        0        \"xyz\"       \"O\"\n",
       "\"Garm1\"  cg1x     0        cg1z     \"Barm1\"     \"O\"\n",
       "\"Garm2\"  cg2x     0        cg2z     \"Barm2\"     \"OA\"\n",
       "\"Garm3\"  cg3x     0        cg3z     \"Barm3\"     \"OB\""
      ]
     },
     "execution_count": 23,
     "metadata": {},
     "output_type": "execute_result"
    }
   ],
   "source": [
    "get_points()"
   ]
  },
  {
   "cell_type": "code",
   "execution_count": 24,
   "metadata": {},
   "outputs": [
    {
     "data": {
      "text/plain": [
       "name        point    base       scale\n",
       "\"abs\"       \"O\"      \"xyz\"          1\n",
       "\"Fra_arm1\"  \"O\"      \"Barm1\"        1\n",
       "\"Fra_arm2\"  \"OA\"     \"Barm2\"        1\n",
       "\"Fra_arm3\"  \"OB\"     \"Barm3\"        1\n",
       "\"Fra_ABS2\"  \"O2\"     \"xyz\"          1"
      ]
     },
     "execution_count": 24,
     "metadata": {},
     "output_type": "execute_result"
    }
   ],
   "source": [
    "get_frames()"
   ]
  },
  {
   "cell_type": "code",
   "execution_count": null,
   "metadata": {},
   "outputs": [],
   "source": []
  }
 ],
 "metadata": {
  "kernelspec": {
   "display_name": "Python 3",
   "language": "python",
   "name": "python3"
  },
  "language_info": {
   "codemirror_mode": {
    "name": "ipython",
    "version": 3
   },
   "file_extension": ".py",
   "mimetype": "text/x-python",
   "name": "python",
   "nbconvert_exporter": "python",
   "pygments_lexer": "ipython3",
   "version": "3.7.4"
  }
 },
 "nbformat": 4,
 "nbformat_minor": 2
}
