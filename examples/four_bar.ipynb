{
 "cells": [
  {
   "cell_type": "markdown",
   "metadata": {},
   "source": [
    "## Imports"
   ]
  },
  {
   "cell_type": "code",
   "execution_count": 1,
   "metadata": {},
   "outputs": [],
   "source": [
    "from IPython.display import Math\n",
    "from lib3d_mec_ginac import *\n",
    "from math import pi, e"
   ]
  },
  {
   "cell_type": "code",
   "execution_count": 2,
   "metadata": {},
   "outputs": [],
   "source": [
    "g = get_parameter('g')"
   ]
  },
  {
   "cell_type": "code",
   "execution_count": 3,
   "metadata": {},
   "outputs": [],
   "source": [
    " # Integration step\n",
    "delta_t =             .003\n",
    "# Assembly init problem solver parameters\n",
    "geom_eq_init_tol =    1e-10\n",
    "geom_eq_init_relax =  .1\n",
    "# Assembly problem solver parameters\n",
    "geom_eq_tol =         delta_t**2 * 10**-3\n",
    "geom_eq_relax =       .1\n",
    "# Equilibrium problem solver parameters\n",
    "dyn_eq_tol =          1.0e-10\n",
    "dyn_eq_relax =        .1\n",
    "# Perturbed dynamic state solver parameters\n",
    "per_dyn_state_tol =   1e-12\n",
    "# ..."
   ]
  },
  {
   "cell_type": "markdown",
   "metadata": {},
   "source": [
    "Generalized coordinates, velocities and accelerations"
   ]
  },
  {
   "cell_type": "code",
   "execution_count": 4,
   "metadata": {},
   "outputs": [],
   "source": [
    "theta1, dtheta1, ddtheta1 = new_coordinate('theta1', -pi/6, 0)\n",
    "theta2, dtheta2, ddtheta2 = new_coordinate('theta2', -2*pi/6, 0)\n",
    "theta3, dtheta3, ddtheta3 = new_coordinate('theta3', -3*pi/6, 0)"
   ]
  },
  {
   "cell_type": "code",
   "execution_count": 5,
   "metadata": {},
   "outputs": [
    {
     "data": {
      "text/plain": [
       "theta1       -0.5236     \n",
       "theta2       -1.0472     \n",
       "theta3       -1.5708     "
      ]
     },
     "execution_count": 5,
     "metadata": {},
     "output_type": "execute_result"
    }
   ],
   "source": [
    "get_coordinates()"
   ]
  },
  {
   "cell_type": "code",
   "execution_count": 6,
   "metadata": {},
   "outputs": [
    {
     "data": {
      "text/plain": [
       "dtheta1      0.0         \n",
       "dtheta2      0.0         \n",
       "dtheta3      0.0         "
      ]
     },
     "execution_count": 6,
     "metadata": {},
     "output_type": "execute_result"
    }
   ],
   "source": [
    "get_velocities()"
   ]
  },
  {
   "cell_type": "markdown",
   "metadata": {},
   "source": [
    "Geometric parameters"
   ]
  },
  {
   "cell_type": "code",
   "execution_count": 7,
   "metadata": {},
   "outputs": [],
   "source": [
    "l1, l2 = new_parameter('l1', 0.4), new_parameter('l2', 2.0)\n",
    "l3, l4 = new_parameter('l3', 1.2), new_parameter('l4', 1.6)"
   ]
  },
  {
   "cell_type": "code",
   "execution_count": 8,
   "metadata": {},
   "outputs": [
    {
     "ename": "TypeError",
     "evalue": "",
     "output_type": "error",
     "traceback": [
      "\u001b[0;31m---------------------------------------------------------------------------\u001b[0m",
      "\u001b[0;31mTypeError\u001b[0m                                 Traceback (most recent call last)",
      "\u001b[0;32m<ipython-input-8-ebc5f5e384c3>\u001b[0m in \u001b[0;36m<module>\u001b[0;34m\u001b[0m\n\u001b[0;32m----> 1\u001b[0;31m \u001b[0mnew_base\u001b[0m\u001b[0;34m(\u001b[0m\u001b[0;34m'Barm1'\u001b[0m\u001b[0;34m,\u001b[0m \u001b[0;34m'xyz'\u001b[0m\u001b[0;34m,\u001b[0m \u001b[0;34m[\u001b[0m\u001b[0;36m0\u001b[0m\u001b[0;34m,\u001b[0m \u001b[0;36m1\u001b[0m\u001b[0;34m,\u001b[0m \u001b[0;36m0\u001b[0m\u001b[0;34m]\u001b[0m\u001b[0;34m,\u001b[0m \u001b[0mtheta1\u001b[0m\u001b[0;34m)\u001b[0m\u001b[0;34m\u001b[0m\u001b[0;34m\u001b[0m\u001b[0m\n\u001b[0m\u001b[1;32m      2\u001b[0m \u001b[0mnew_base\u001b[0m\u001b[0;34m(\u001b[0m\u001b[0;34m'Barm2'\u001b[0m\u001b[0;34m,\u001b[0m \u001b[0;34m'xyz'\u001b[0m\u001b[0;34m,\u001b[0m \u001b[0;34m[\u001b[0m\u001b[0;36m0\u001b[0m\u001b[0;34m,\u001b[0m \u001b[0;36m1\u001b[0m\u001b[0;34m,\u001b[0m \u001b[0;36m0\u001b[0m\u001b[0;34m]\u001b[0m\u001b[0;34m,\u001b[0m \u001b[0mtheta2\u001b[0m\u001b[0;34m)\u001b[0m\u001b[0;34m\u001b[0m\u001b[0;34m\u001b[0m\u001b[0m\n\u001b[1;32m      3\u001b[0m \u001b[0mnew_base\u001b[0m\u001b[0;34m(\u001b[0m\u001b[0;34m'Barm3'\u001b[0m\u001b[0;34m,\u001b[0m \u001b[0;34m'xyz'\u001b[0m\u001b[0;34m,\u001b[0m \u001b[0;34m[\u001b[0m\u001b[0;36m0\u001b[0m\u001b[0;34m,\u001b[0m \u001b[0;36m1\u001b[0m\u001b[0;34m,\u001b[0m \u001b[0;36m0\u001b[0m\u001b[0;34m]\u001b[0m\u001b[0;34m,\u001b[0m \u001b[0mtheta3\u001b[0m\u001b[0;34m)\u001b[0m\u001b[0;34m\u001b[0m\u001b[0;34m\u001b[0m\u001b[0m\n",
      "\u001b[0;32msrc/main.pyx\u001b[0m in \u001b[0;36mlib3d_mec_ginac_ext.System.new_base\u001b[0;34m()\u001b[0m\n",
      "\u001b[0;32msrc/main.pyx\u001b[0m in \u001b[0;36mlib3d_mec_ginac_ext._System._new_base\u001b[0;34m()\u001b[0m\n",
      "\u001b[0;32msrc/main.pyx\u001b[0m in \u001b[0;36mlib3d_mec_ginac_ext._System._new_base\u001b[0;34m()\u001b[0m\n",
      "\u001b[0;32msrc/main.pyx\u001b[0m in \u001b[0;36mlib3d_mec_ginac_ext.Expr.__cinit__\u001b[0;34m()\u001b[0m\n",
      "\u001b[0;31mTypeError\u001b[0m: "
     ]
    }
   ],
   "source": [
    "#new_base('Barm1', 'xyz', [0, 1, 0], theta1)\n",
    "#new_base('Barm2', 'xyz', [0, 1, 0], theta2)\n",
    "#new_base('Barm3', 'xyz', [0, 1, 0], theta3)"
   ]
  },
  {
   "cell_type": "code",
   "execution_count": null,
   "metadata": {},
   "outputs": [],
   "source": [
    "get_bases()"
   ]
  }
 ],
 "metadata": {
  "kernelspec": {
   "display_name": "Python 3",
   "language": "python",
   "name": "python3"
  },
  "language_info": {
   "codemirror_mode": {
    "name": "ipython",
    "version": 3
   },
   "file_extension": ".py",
   "mimetype": "text/x-python",
   "name": "python",
   "nbconvert_exporter": "python",
   "pygments_lexer": "ipython3",
   "version": "3.7.4"
  }
 },
 "nbformat": 4,
 "nbformat_minor": 2
}
