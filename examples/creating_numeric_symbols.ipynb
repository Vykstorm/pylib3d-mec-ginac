{
 "cells": [
  {
   "cell_type": "markdown",
   "metadata": {},
   "source": [
    "This notebook shows different ways to construct numeric symbols (coordinates, inputs, ...) within the class System"
   ]
  },
  {
   "cell_type": "markdown",
   "metadata": {},
   "source": [
    "## Import statements"
   ]
  },
  {
   "cell_type": "code",
   "execution_count": 1,
   "metadata": {},
   "outputs": [],
   "source": [
    "from IPython.display import Math\n",
    "from lib3d_mec_ginac import System"
   ]
  },
  {
   "cell_type": "markdown",
   "metadata": {},
   "source": [
    "## Creating inputs, parameters and unknowns"
   ]
  },
  {
   "cell_type": "markdown",
   "metadata": {},
   "source": [
    "Three methods are avaliable: ```new_input```, ```new_parameter``` and ```new_joint_unknown```"
   ]
  },
  {
   "cell_type": "markdown",
   "metadata": {},
   "source": [
    "The parameters are the same: ```name[, tex_name][, value]```"
   ]
  },
  {
   "cell_type": "markdown",
   "metadata": {},
   "source": [
    "The simplest way to create a symbol is by passing only its name:"
   ]
  },
  {
   "cell_type": "code",
   "execution_count": 2,
   "metadata": {},
   "outputs": [
    {
     "data": {
      "text/plain": [
       "g  parameter      9.8\n",
       "b  parameter      0\n",
       "a  input          0\n",
       "c  joint unknown  0"
      ]
     },
     "execution_count": 2,
     "metadata": {},
     "output_type": "execute_result"
    }
   ],
   "source": [
    "sys = System()\n",
    "sys.new_input('a')\n",
    "sys.new_parameter('b')\n",
    "sys.new_joint_unknown('c')\n",
    "sys.symbols"
   ]
  },
  {
   "cell_type": "markdown",
   "metadata": {},
   "source": [
    "You can specify their names in latex and its initial value using a combination of python keyword & positional arguments that matches the method signature"
   ]
  },
  {
   "cell_type": "code",
   "execution_count": 3,
   "metadata": {},
   "outputs": [
    {
     "data": {
      "text/plain": [
       "a  1\n",
       "b  2\n",
       "m  3\n",
       "x  4"
      ]
     },
     "execution_count": 3,
     "metadata": {},
     "output_type": "execute_result"
    }
   ],
   "source": [
    "sys = System()\n",
    "sys.new_input('a', tex_name='\\\\alpha', value=1)\n",
    "sys.new_input(name='b', tex_name='\\\\beta', value=2)\n",
    "sys.new_input('m', '\\\\mu', value=3)\n",
    "sys.new_input('x', '\\\\chi', value=4)\n",
    "sys.inputs"
   ]
  },
  {
   "cell_type": "code",
   "execution_count": 4,
   "metadata": {},
   "outputs": [
    {
     "data": {
      "text/latex": [
       "$\\displaystyle Inputs: \\alpha ~\\beta ~\\mu ~\\chi$"
      ],
      "text/plain": [
       "<IPython.core.display.Math object>"
      ]
     },
     "execution_count": 4,
     "metadata": {},
     "output_type": "execute_result"
    }
   ],
   "source": [
    "Math('Inputs: ' + ' ~'.join([symbol.tex_name for symbol in sys.inputs.values()]))"
   ]
  },
  {
   "cell_type": "markdown",
   "metadata": {},
   "source": [
    "You can use also indicate the value argument after the name using positional arguments:"
   ]
  },
  {
   "cell_type": "code",
   "execution_count": 5,
   "metadata": {},
   "outputs": [
    {
     "data": {
      "text/plain": [
       "a  1\n",
       "b  0.5"
      ]
     },
     "execution_count": 5,
     "metadata": {},
     "output_type": "execute_result"
    }
   ],
   "source": [
    "sys = System()\n",
    "sys.new_joint_unknown('a', 1)\n",
    "sys.new_joint_unknown('b', 0.5)\n",
    "sys.joint_unknowns"
   ]
  },
  {
   "cell_type": "markdown",
   "metadata": {},
   "source": [
    "Finally, its possible to use another symbol to initialize the numeric value of another symbol:"
   ]
  },
  {
   "cell_type": "code",
   "execution_count": 6,
   "metadata": {},
   "outputs": [
    {
     "data": {
      "text/plain": [
       "Symbol b, value = 0.25"
      ]
     },
     "execution_count": 6,
     "metadata": {},
     "output_type": "execute_result"
    }
   ],
   "source": [
    "sys = System()\n",
    "a = sys.new_input('a', 0.25)\n",
    "sys.new_input('b', a)"
   ]
  },
  {
   "cell_type": "markdown",
   "metadata": {},
   "source": [
    "## Creating coordinates"
   ]
  },
  {
   "cell_type": "markdown",
   "metadata": {},
   "source": [
    "For coordinates and aux_coordinates, ```new_coordinate``` and ```new_aux_coordinate``` methods must be used"
   ]
  },
  {
   "cell_type": "markdown",
   "metadata": {},
   "source": [
    "Both of them have the same syntax:\n",
    "\n",
    "```name[, vel_name[, acc_name[, tex_name[, vel_tex_name][, acc_tex_name]]]]],[value[, vel_value[, acc_value]]]```"
   ]
  },
  {
   "cell_type": "markdown",
   "metadata": {},
   "source": [
    "The first three parameters are the name of the coordinate and its derivatives.\n",
    "The following three parameters are their names but in latex and the last ones, the initial values.\n",
    "\n",
    "Only the name of the coordinate is mandatory"
   ]
  },
  {
   "cell_type": "code",
   "execution_count": 7,
   "metadata": {},
   "outputs": [
    {
     "data": {
      "text/plain": [
       "a    coordinate    0\n",
       "da   velocity      0\n",
       "dda  acceleration  0\n",
       "g    parameter     9.8"
      ]
     },
     "execution_count": 7,
     "metadata": {},
     "output_type": "execute_result"
    }
   ],
   "source": [
    "sys = System()\n",
    "sys.new_coordinate('a')\n",
    "sys.symbols"
   ]
  },
  {
   "cell_type": "markdown",
   "metadata": {},
   "source": [
    "The rest of arguments can be passed via positional or keyword arguments"
   ]
  },
  {
   "cell_type": "code",
   "execution_count": 8,
   "metadata": {},
   "outputs": [
    {
     "data": {
      "text/plain": [
       "a       coordinate        1\n",
       "da_dt   velocity          0.5\n",
       "dda_dt  acceleration      0.25\n",
       "b       aux coordinate    1\n",
       "db      aux velocity      0\n",
       "ddb     aux acceleration  0\n",
       "g       parameter         9.8"
      ]
     },
     "execution_count": 8,
     "metadata": {},
     "output_type": "execute_result"
    }
   ],
   "source": [
    "sys = System()\n",
    "sys.new_coordinate('a', 'da_dt', 'dda_dt', value=1, vel_value=0.5, acc_value=0.25)\n",
    "sys.new_aux_coordinate('b', tex_name='\\\\beta', value=1)\n",
    "sys.symbols"
   ]
  },
  {
   "cell_type": "markdown",
   "metadata": {},
   "source": [
    "The return value of ```new_coordinate``` and  ```new_aux_coordinate``` is a tuple with 3 items (instances of the class ```SymbolNumeric```)"
   ]
  },
  {
   "cell_type": "code",
   "execution_count": 9,
   "metadata": {},
   "outputs": [],
   "source": [
    "sys = System()\n",
    "k, dk, ddk = sys.new_coordinate('k', tex_name='\\\\kappa', value=1, vel_value=2, acc_value=3)"
   ]
  },
  {
   "cell_type": "markdown",
   "metadata": {},
   "source": [
    "Print the coordinate and its derivatives"
   ]
  },
  {
   "cell_type": "code",
   "execution_count": 13,
   "metadata": {},
   "outputs": [
    {
     "data": {
      "text/latex": [
       "$\\displaystyle \\kappa = 1.0, \\dot{\\kappa} = 2.0, \\ddot{\\kappa} = 3.0$"
      ],
      "text/plain": [
       "<IPython.core.display.Math object>"
      ]
     },
     "execution_count": 13,
     "metadata": {},
     "output_type": "execute_result"
    }
   ],
   "source": [
    "Math(', '.join([symbol.tex_name + f' = {symbol.value}' for symbol in (k, dk, ddk)]))"
   ]
  },
  {
   "cell_type": "markdown",
   "metadata": {},
   "source": [
    "There is also an alternative way to create coordinates, useful when you need to specify the initial values for the symbols with positional arguments after ```name```, ```vel_name``` or ```acc_name```:"
   ]
  },
  {
   "cell_type": "code",
   "execution_count": 14,
   "metadata": {},
   "outputs": [
    {
     "data": {
      "text/plain": [
       "c    coordinate    1\n",
       "r    coordinate    4\n",
       "s    coordinate    7\n",
       "dc   velocity      2\n",
       "r_2  velocity      5\n",
       "ds   velocity      8\n",
       "ddc  acceleration  3\n",
       "r_3  acceleration  6\n",
       "dds  acceleration  9\n",
       "g    parameter     9.8"
      ]
     },
     "execution_count": 14,
     "metadata": {},
     "output_type": "execute_result"
    }
   ],
   "source": [
    "sys = System()\n",
    "sys.new_coordinate('c', 1, 2, 3)\n",
    "sys.new_coordinate('r', 'r_2', 'r_3', 4, 5, 6)\n",
    "values = [7, 8, 9]\n",
    "sys.new_coordinate('s', *values)\n",
    "sys.symbols"
   ]
  }
 ],
 "metadata": {
  "kernelspec": {
   "display_name": "Python 3",
   "language": "python",
   "name": "python3"
  },
  "language_info": {
   "codemirror_mode": {
    "name": "ipython",
    "version": 3
   },
   "file_extension": ".py",
   "mimetype": "text/x-python",
   "name": "python",
   "nbconvert_exporter": "python",
   "pygments_lexer": "ipython3",
   "version": "3.7.4"
  }
 },
 "nbformat": 4,
 "nbformat_minor": 2
}
