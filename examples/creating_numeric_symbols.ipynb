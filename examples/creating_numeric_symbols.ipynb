{
 "cells": [
  {
   "cell_type": "markdown",
   "metadata": {},
   "source": [
    "This notebook shows different ways to construct numeric symbols (coordinates, inputs, ...) within the class System"
   ]
  },
  {
   "cell_type": "markdown",
   "metadata": {},
   "source": [
    "## Import statements"
   ]
  },
  {
   "cell_type": "code",
   "execution_count": 1,
   "metadata": {},
   "outputs": [],
   "source": [
    "from IPython.display import Math\n",
    "from lib3d_mec_ginac import System"
   ]
  },
  {
   "cell_type": "markdown",
   "metadata": {},
   "source": [
    "## Creating inputs, parameters and unknowns"
   ]
  },
  {
   "cell_type": "markdown",
   "metadata": {},
   "source": [
    "Three methods are avaliable: ```new_input```, ```new_parameter``` and ```new_joint_unknown```"
   ]
  },
  {
   "cell_type": "markdown",
   "metadata": {},
   "source": [
    "The parameters are the same: ```name[, tex_name][, value]```"
   ]
  },
  {
   "cell_type": "markdown",
   "metadata": {},
   "source": [
    "The simplest way to create a symbol is by passing only its name:"
   ]
  },
  {
   "cell_type": "code",
   "execution_count": 6,
   "metadata": {},
   "outputs": [
    {
     "data": {
      "text/plain": [
       "parameter          g            9.8         \n",
       "parameter          b            0.0         \n",
       "input              a            0.0         \n",
       "joint unknown      c            0.0         "
      ]
     },
     "execution_count": 6,
     "metadata": {},
     "output_type": "execute_result"
    }
   ],
   "source": [
    "sys = System()\n",
    "sys.new_input('a')\n",
    "sys.new_parameter('b')\n",
    "sys.new_joint_unknown('c')\n",
    "sys.symbols"
   ]
  },
  {
   "cell_type": "markdown",
   "metadata": {},
   "source": [
    "You can specify their names in latex and its initial value using a combination of python keyword & positional arguments that matches the method signature"
   ]
  },
  {
   "cell_type": "code",
   "execution_count": 7,
   "metadata": {},
   "outputs": [
    {
     "data": {
      "text/plain": [
       "a            1.0         \n",
       "b            2.0         \n",
       "m            3.0         \n",
       "x            4.0         "
      ]
     },
     "execution_count": 7,
     "metadata": {},
     "output_type": "execute_result"
    }
   ],
   "source": [
    "sys = System()\n",
    "sys.new_input('a', tex_name='\\\\alpha', value=1)\n",
    "sys.new_input(name='b', tex_name='\\\\beta', value=2)\n",
    "sys.new_input('m', '\\\\mu', value=3)\n",
    "sys.new_input('x', '\\\\chi', value=4)\n",
    "sys.inputs"
   ]
  },
  {
   "cell_type": "code",
   "execution_count": 8,
   "metadata": {},
   "outputs": [
    {
     "data": {
      "text/latex": [
       "$\\displaystyle Inputs: \\alpha ~\\beta ~\\mu ~\\chi$"
      ],
      "text/plain": [
       "<IPython.core.display.Math object>"
      ]
     },
     "execution_count": 8,
     "metadata": {},
     "output_type": "execute_result"
    }
   ],
   "source": [
    "Math('Inputs: ' + ' ~'.join([symbol.tex_name for symbol in sys.inputs.values()]))"
   ]
  },
  {
   "cell_type": "markdown",
   "metadata": {},
   "source": [
    "You can use also indicate the value argument after the name using positional arguments:"
   ]
  },
  {
   "cell_type": "code",
   "execution_count": 9,
   "metadata": {},
   "outputs": [
    {
     "data": {
      "text/plain": [
       "a            1.0         \n",
       "b            0.5         "
      ]
     },
     "execution_count": 9,
     "metadata": {},
     "output_type": "execute_result"
    }
   ],
   "source": [
    "sys = System()\n",
    "sys.new_joint_unknown('a', 1)\n",
    "sys.new_joint_unknown('b', 0.5)\n",
    "sys.joint_unknowns"
   ]
  },
  {
   "cell_type": "markdown",
   "metadata": {},
   "source": [
    "Finally, its possible to use another symbol to initialize the numeric value of another symbol:"
   ]
  },
  {
   "cell_type": "code",
   "execution_count": 10,
   "metadata": {},
   "outputs": [
    {
     "data": {
      "text/plain": [
       "Symbol b, value = 0.25"
      ]
     },
     "execution_count": 10,
     "metadata": {},
     "output_type": "execute_result"
    }
   ],
   "source": [
    "sys = System()\n",
    "a = sys.new_input('a', 0.25)\n",
    "sys.new_input('b', a)"
   ]
  },
  {
   "cell_type": "markdown",
   "metadata": {},
   "source": [
    "## Creating coordinates"
   ]
  },
  {
   "cell_type": "markdown",
   "metadata": {},
   "source": [
    "For coordinates and aux_coordinates, ```new_coordinate``` and ```new_aux_coordinate``` methods must be used"
   ]
  },
  {
   "cell_type": "markdown",
   "metadata": {},
   "source": [
    "Both of them have the same syntax:\n",
    "\n",
    "```name[, vel_name[, acc_name[, tex_name[, vel_tex_name][, acc_tex_name]]]]],[value[, vel_value[, acc_value]]]```"
   ]
  },
  {
   "cell_type": "markdown",
   "metadata": {},
   "source": [
    "The first three parameters are the name of the coordinate and its derivatives.\n",
    "The following three parameters are their names but in latex and the last ones, the initial values.\n",
    "\n",
    "Only the name of the coordinate is mandatory"
   ]
  },
  {
   "cell_type": "code",
   "execution_count": 12,
   "metadata": {},
   "outputs": [
    {
     "data": {
      "text/plain": [
       "coordinate         a            0.0         \n",
       "velocity           da           0.0         \n",
       "acceleration       dda          0.0         \n",
       "parameter          g            9.8         "
      ]
     },
     "execution_count": 12,
     "metadata": {},
     "output_type": "execute_result"
    }
   ],
   "source": [
    "sys = System()\n",
    "sys.new_coordinate('a')\n",
    "sys.symbols"
   ]
  },
  {
   "cell_type": "markdown",
   "metadata": {},
   "source": [
    "The rest of arguments can be passed via positional or keyword arguments"
   ]
  },
  {
   "cell_type": "code",
   "execution_count": 19,
   "metadata": {},
   "outputs": [
    {
     "data": {
      "text/plain": [
       "coordinate         a            1.0         \n",
       "velocity           da_dt        0.5         \n",
       "acceleration       dda_dt       0.25        \n",
       "aux coordinate     b            1.0         \n",
       "aux velocity       db           0.0         \n",
       "aux acceleration   ddb          0.0         \n",
       "parameter          g            9.8         "
      ]
     },
     "execution_count": 19,
     "metadata": {},
     "output_type": "execute_result"
    }
   ],
   "source": [
    "sys = System()\n",
    "sys.new_coordinate('a', 'da_dt', 'dda_dt', value=1, vel_value=0.5, acc_value=0.25)\n",
    "sys.new_aux_coordinate('b', tex_name='\\\\beta', value=1)\n",
    "sys.symbols"
   ]
  },
  {
   "cell_type": "markdown",
   "metadata": {},
   "source": [
    "The return value of ```new_coordinate``` and  ```new_aux_coordinate``` is a tuple with 3 items (instances of the class ```SymbolNumeric```)"
   ]
  },
  {
   "cell_type": "code",
   "execution_count": 34,
   "metadata": {},
   "outputs": [],
   "source": [
    "sys = System()\n",
    "k, dk, ddk = sys.new_coordinate('k', tex_name='\\\\kappa', value=1, vel_value=2, acc_value=3)"
   ]
  },
  {
   "cell_type": "markdown",
   "metadata": {},
   "source": [
    "Print the coordinate and its derivatives"
   ]
  },
  {
   "cell_type": "code",
   "execution_count": 54,
   "metadata": {},
   "outputs": [
    {
     "data": {
      "text/latex": [
       "$\\displaystyle \\kappa = 1.0, ~ \\dot{\\kappa} = 2.0, ~ \\ddot{\\kappa} = 3.0, $"
      ],
      "text/plain": [
       "<IPython.core.display.Math object>"
      ]
     },
     "execution_count": 54,
     "metadata": {},
     "output_type": "execute_result"
    }
   ],
   "source": [
    "Math('~ '.join([symbol.tex_name + f' = {symbol.value}, ' for symbol in (k, dk, ddk)]))"
   ]
  },
  {
   "cell_type": "markdown",
   "metadata": {},
   "source": [
    "There is also an alternative way to create coordinates, useful when you need to specify the initial values for the symbols with positional arguments after ```name```, ```vel_name``` or ```acc_name```:"
   ]
  },
  {
   "cell_type": "code",
   "execution_count": 61,
   "metadata": {},
   "outputs": [
    {
     "data": {
      "text/plain": [
       "coordinate         c            1.0         \n",
       "coordinate         r            4.0         \n",
       "coordinate         s            7.0         \n",
       "velocity           dc           2.0         \n",
       "velocity           r_2          5.0         \n",
       "velocity           ds           8.0         \n",
       "acceleration       ddc          3.0         \n",
       "acceleration       r_3          6.0         \n",
       "acceleration       dds          9.0         \n",
       "parameter          g            9.8         "
      ]
     },
     "execution_count": 61,
     "metadata": {},
     "output_type": "execute_result"
    }
   ],
   "source": [
    "sys = System()\n",
    "sys.new_coordinate('c', 1, 2, 3)\n",
    "sys.new_coordinate('r', 'r_2', 'r_3', 4, 5, 6)\n",
    "values = [7, 8, 9]\n",
    "sys.new_coordinate('s', *values)\n",
    "sys.symbols"
   ]
  },
  {
   "cell_type": "markdown",
   "metadata": {},
   "source": []
  }
 ],
 "metadata": {
  "kernelspec": {
   "display_name": "Python 3",
   "language": "python",
   "name": "python3"
  },
  "language_info": {
   "codemirror_mode": {
    "name": "ipython",
    "version": 3
   },
   "file_extension": ".py",
   "mimetype": "text/x-python",
   "name": "python",
   "nbconvert_exporter": "python",
   "pygments_lexer": "ipython3",
   "version": "3.7.3"
  }
 },
 "nbformat": 4,
 "nbformat_minor": 2
}
